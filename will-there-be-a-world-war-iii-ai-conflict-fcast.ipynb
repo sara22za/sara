{
 "cells": [
  {
   "cell_type": "markdown",
   "id": "86100e32",
   "metadata": {
    "papermill": {
     "duration": 0.006992,
     "end_time": "2025-10-19T11:38:04.849941",
     "exception": false,
     "start_time": "2025-10-19T11:38:04.842949",
     "status": "completed"
    },
    "tags": []
   },
   "source": [
    "<div style=\"background:linear-gradient(135deg,#0b3d91,#1a5276); padding:25px; border-radius:15px;\n",
    "box-shadow:0 4px 15px rgba(0,0,0,0.2); text-align:center; color:white; font-family:'Segoe UI',Arial,sans-serif;\">\n",
    "\n",
    "<img src=\"https://plus.unsplash.com/premium_photo-1733317391601-b1651d6d4be9?auto=format&fit=crop&w=1600&q=80\"\n",
    "     alt=\"AI Global War Forecast Cover\" \n",
    "     style=\"width:100%; border-radius:15px; margin-bottom:25px; box-shadow:0 4px 15px rgba(0,0,0,0.3);\">\n",
    "\n",
    "<h1 style=\"font-size:34px; color:#f4d03f; margin-bottom:10px;\">🌍 AI War Forecasting: Predicting Global Conflict through NLP & Machine Learning</h1>\n",
    "\n",
    "<p style=\"font-size:17px; color:#ecf0f1; line-height:1.6; margin-top:10px;\">\n",
    "A visual and analytical exploration of how Artificial Intelligence can detect and forecast global tension \n",
    "using multilingual news datasets, geopolitical signals, and real-time sentiment shifts.\n",
    "</p>\n",
    "\n",
    "</div>"
   ]
  },
  {
   "cell_type": "markdown",
   "id": "88fbc2ca",
   "metadata": {
    "papermill": {
     "duration": 0.005362,
     "end_time": "2025-10-19T11:38:04.861110",
     "exception": false,
     "start_time": "2025-10-19T11:38:04.855748",
     "status": "completed"
    },
    "tags": []
   },
   "source": [
    "<div style=\"background:linear-gradient(135deg,#ffffff,#ecf0f1); padding:25px; border-radius:15px;\n",
    "box-shadow:0 4px 10px rgba(0,0,0,0.1); font-family:'Segoe UI',Arial,sans-serif; margin-top:20px;\">\n",
    "\n",
    "<h2 style=\"color:#0b5345;\">📊 Dataset Information</h2>\n",
    "<p style=\"color:#2c3e50; font-size:15px; line-height:1.7;\">\n",
    "The dataset includes thousands of international headlines and descriptions gathered from multiple sources\n",
    "covering <b style=\"color:#2874a6;\">political, military, and economic events</b>.\n",
    "Each entry is labeled according to the intensity of <b style=\"color:#e74c3c;\">conflict indicators</b>\n",
    "(such as “Tension”, “Negotiation”, “Conflict”, or “Peace”).\n",
    "</p>\n",
    "\n",
    "<ul style=\"color:#2c3e50; font-size:15px; line-height:1.8;\">\n",
    "  <li>🗞 <b>Text Fields:</b> Title, Description, Date, Country, Category</li>\n",
    "  <li>🔢 <b>Target Label:</b> Binary or multiclass label indicating conflict probability</li>\n",
    "  <li>🌍 <b>Scope:</b> Global coverage (North America, Europe, Asia, MENA, Africa)</li>\n",
    "  <li>📅 <b>Time Range:</b> 2018–2025 (updated news samples)</li>\n",
    "</ul>\n",
    "\n",
    "---\n",
    "\n",
    "<h2 style=\"color:#4a235a;\">🧭 Research Inspiration</h2>\n",
    "<p style=\"color:#2c3e50; font-size:15px; line-height:1.7;\">\n",
    "Inspired by interdisciplinary studies in <b style=\"color:#8e44ad;\">computational geopolitics</b> and\n",
    "<b style=\"color:#27ae60;\">AI-driven forecasting</b>, this project bridges the gap between\n",
    "data science and international relations.\n",
    "</p>\n",
    "\n",
    "<p style=\"color:#2c3e50; font-size:15px;\">\n",
    "The approach draws from:\n",
    "</p>\n",
    "<ul style=\"color:#2c3e50; font-size:15px; line-height:1.7;\">\n",
    "  <li>📚 Academic research on early conflict detection and escalation modeling</li>\n",
    "  <li>🧠 NLP-based sentiment tracking of global leaders’ rhetoric</li>\n",
    "  <li>🌐 Real-time monitoring of international event datasets (GDELT, ACLED, etc.)</li>\n",
    "  <li>📈 Statistical trend forecasting for tension evolution</li>\n",
    "</ul>\n",
    "\n",
    "---\n",
    "\n",
    "<h3 style=\"color:#1a5276;\">🎯 Goal</h3>\n",
    "<p style=\"color:#2c3e50; font-size:15px;\">\n",
    "To empower researchers, analysts, and data enthusiasts to understand how \n",
    "<b style=\"color:#e67e22;\">AI can quantify instability</b> and visualize the dynamic risk of global conflict.  \n",
    "The model aims to act as an <b style=\"color:#27ae60;\">early warning system</b> rather than a prediction of actual war.\n",
    "</p>\n",
    "\n",
    "</div>"
   ]
  },
  {
   "cell_type": "markdown",
   "id": "66199ed6",
   "metadata": {
    "papermill": {
     "duration": 0.005761,
     "end_time": "2025-10-19T11:38:04.872356",
     "exception": false,
     "start_time": "2025-10-19T11:38:04.866595",
     "status": "completed"
    },
    "tags": []
   },
   "source": [
    "<div style=\"background:linear-gradient(135deg,#e0f7fa,#f3e5f5); padding:20px; border-radius:15px; \n",
    "box-shadow:0 6px 15px rgba(0,0,0,0.1); text-align:center; font-family:'Segoe UI',Arial,sans-serif;\">\n",
    "\n",
    "  <h1 style=\"color:#00695c; font-size:26px; margin-bottom:10px;\">\n",
    "    🌍 <span style=\"background:linear-gradient(90deg,#26a69a,#8e24aa); \n",
    "    -webkit-background-clip:text; color:transparent;\">\n",
    "      Data Fusion: Conflict & News Sources Integration\n",
    "    </span>\n",
    "  </h1>\n",
    "\n",
    "  <p style=\"font-size:15px; color:#37474f; line-height:1.6;\">\n",
    "    Loading and combining datasets from <b style=\"color:#00796b;\">UCDP Conflict Data</b> and \n",
    "    <b style=\"color:#8e24aa;\">Google News War Headlines</b>.<br>\n",
    "    This stage establishes the foundation for geopolitical event correlation analysis.\n",
    "  </p>\n",
    "\n",
    "  <p style=\"color:#546e7a; font-size:13px; margin-top:10px;\">\n",
    "    🧩 The merged data provides real-world signals used later for tension modeling.\n",
    "  </p>\n",
    "</div>"
   ]
  },
  {
   "cell_type": "code",
   "execution_count": 1,
   "id": "f6dbe335",
   "metadata": {
    "execution": {
     "iopub.execute_input": "2025-10-19T11:38:04.884224Z",
     "iopub.status.busy": "2025-10-19T11:38:04.884015Z",
     "iopub.status.idle": "2025-10-19T11:38:09.785996Z",
     "shell.execute_reply": "2025-10-19T11:38:09.785141Z"
    },
    "papermill": {
     "duration": 4.90922,
     "end_time": "2025-10-19T11:38:09.787074",
     "exception": false,
     "start_time": "2025-10-19T11:38:04.877854",
     "status": "completed"
    },
    "tags": []
   },
   "outputs": [
    {
     "name": "stdout",
     "output_type": "stream",
     "text": [
      "UCDP shape: (12606, 13)\n",
      "News shape: (5654, 6)\n",
      "\n",
      "UCDP columns: ['abc', 'name', 'year', 'gwno_a', 'newconf', 'onset1', 'onset2', 'onset3', 'onset5', 'onset10', 'onset20', 'conflict_ids', 'year_prev']\n",
      "\n",
      "News columns: ['Unnamed: 0', 'Headlines', 'Summary', 'Press', 'Date', 'Keyword']\n"
     ]
    },
    {
     "name": "stderr",
     "output_type": "stream",
     "text": [
      "/usr/local/lib/python3.11/dist-packages/pandas/io/formats/format.py:1458: RuntimeWarning: invalid value encountered in greater\n",
      "  has_large_values = (abs_vals > 1e6).any()\n",
      "/usr/local/lib/python3.11/dist-packages/pandas/io/formats/format.py:1459: RuntimeWarning: invalid value encountered in less\n",
      "  has_small_values = ((abs_vals < 10 ** (-self.digits)) & (abs_vals > 0)).any()\n",
      "/usr/local/lib/python3.11/dist-packages/pandas/io/formats/format.py:1459: RuntimeWarning: invalid value encountered in greater\n",
      "  has_small_values = ((abs_vals < 10 ** (-self.digits)) & (abs_vals > 0)).any()\n"
     ]
    },
    {
     "data": {
      "text/html": [
       "<div>\n",
       "<style scoped>\n",
       "    .dataframe tbody tr th:only-of-type {\n",
       "        vertical-align: middle;\n",
       "    }\n",
       "\n",
       "    .dataframe tbody tr th {\n",
       "        vertical-align: top;\n",
       "    }\n",
       "\n",
       "    .dataframe thead th {\n",
       "        text-align: right;\n",
       "    }\n",
       "</style>\n",
       "<table border=\"1\" class=\"dataframe\">\n",
       "  <thead>\n",
       "    <tr style=\"text-align: right;\">\n",
       "      <th></th>\n",
       "      <th>abc</th>\n",
       "      <th>name</th>\n",
       "      <th>year</th>\n",
       "      <th>gwno_a</th>\n",
       "      <th>newconf</th>\n",
       "      <th>onset1</th>\n",
       "      <th>onset2</th>\n",
       "      <th>onset3</th>\n",
       "      <th>onset5</th>\n",
       "      <th>onset10</th>\n",
       "      <th>onset20</th>\n",
       "      <th>conflict_ids</th>\n",
       "      <th>year_prev</th>\n",
       "    </tr>\n",
       "  </thead>\n",
       "  <tbody>\n",
       "    <tr>\n",
       "      <th>0</th>\n",
       "      <td>AFG</td>\n",
       "      <td>Afghanistan</td>\n",
       "      <td>1946</td>\n",
       "      <td>700</td>\n",
       "      <td>0</td>\n",
       "      <td>0</td>\n",
       "      <td>0</td>\n",
       "      <td>0</td>\n",
       "      <td>0</td>\n",
       "      <td>0</td>\n",
       "      <td>0</td>\n",
       "      <td>NaN</td>\n",
       "      <td></td>\n",
       "    </tr>\n",
       "    <tr>\n",
       "      <th>1</th>\n",
       "      <td>AFG</td>\n",
       "      <td>Afghanistan</td>\n",
       "      <td>1947</td>\n",
       "      <td>700</td>\n",
       "      <td>0</td>\n",
       "      <td>0</td>\n",
       "      <td>0</td>\n",
       "      <td>0</td>\n",
       "      <td>0</td>\n",
       "      <td>0</td>\n",
       "      <td>0</td>\n",
       "      <td>NaN</td>\n",
       "      <td></td>\n",
       "    </tr>\n",
       "    <tr>\n",
       "      <th>2</th>\n",
       "      <td>AFG</td>\n",
       "      <td>Afghanistan</td>\n",
       "      <td>1948</td>\n",
       "      <td>700</td>\n",
       "      <td>0</td>\n",
       "      <td>0</td>\n",
       "      <td>0</td>\n",
       "      <td>0</td>\n",
       "      <td>0</td>\n",
       "      <td>0</td>\n",
       "      <td>0</td>\n",
       "      <td>NaN</td>\n",
       "      <td></td>\n",
       "    </tr>\n",
       "    <tr>\n",
       "      <th>3</th>\n",
       "      <td>AFG</td>\n",
       "      <td>Afghanistan</td>\n",
       "      <td>1949</td>\n",
       "      <td>700</td>\n",
       "      <td>0</td>\n",
       "      <td>0</td>\n",
       "      <td>0</td>\n",
       "      <td>0</td>\n",
       "      <td>0</td>\n",
       "      <td>0</td>\n",
       "      <td>0</td>\n",
       "      <td>NaN</td>\n",
       "      <td></td>\n",
       "    </tr>\n",
       "    <tr>\n",
       "      <th>4</th>\n",
       "      <td>AFG</td>\n",
       "      <td>Afghanistan</td>\n",
       "      <td>1950</td>\n",
       "      <td>700</td>\n",
       "      <td>0</td>\n",
       "      <td>0</td>\n",
       "      <td>0</td>\n",
       "      <td>0</td>\n",
       "      <td>0</td>\n",
       "      <td>0</td>\n",
       "      <td>0</td>\n",
       "      <td>NaN</td>\n",
       "      <td></td>\n",
       "    </tr>\n",
       "  </tbody>\n",
       "</table>\n",
       "</div>"
      ],
      "text/plain": [
       "   abc         name  year  gwno_a  newconf  onset1  onset2  onset3  onset5  \\\n",
       "0  AFG  Afghanistan  1946     700        0       0       0       0       0   \n",
       "1  AFG  Afghanistan  1947     700        0       0       0       0       0   \n",
       "2  AFG  Afghanistan  1948     700        0       0       0       0       0   \n",
       "3  AFG  Afghanistan  1949     700        0       0       0       0       0   \n",
       "4  AFG  Afghanistan  1950     700        0       0       0       0       0   \n",
       "\n",
       "   onset10  onset20  conflict_ids year_prev  \n",
       "0        0        0           NaN            \n",
       "1        0        0           NaN            \n",
       "2        0        0           NaN            \n",
       "3        0        0           NaN            \n",
       "4        0        0           NaN            "
      ]
     },
     "execution_count": 1,
     "metadata": {},
     "output_type": "execute_result"
    }
   ],
   "source": [
    "import pandas as pd\n",
    "import numpy as np\n",
    "import seaborn as sns\n",
    "import matplotlib.pyplot as plt\n",
    "import geopandas as gpd\n",
    "import joblib\n",
    "import matplotlib.dates as mdates\n",
    "import time\n",
    "from datetime import datetime, timedelta\n",
    "from IPython.display import display, HTML\n",
    "import matplotlib.pyplot as plt\n",
    "from difflib import get_close_matches\n",
    "\n",
    "ucdp_path = \"/kaggle/input/ucdp-intrastate-conflict/ucdp-intrastate-conflict-onset-251.csv\"\n",
    "news_path = \"/kaggle/input/google-war-news/war-news.csv\"\n",
    "\n",
    "ucdp_df = pd.read_csv(ucdp_path, encoding='latin1')\n",
    "news_df = pd.read_csv(news_path, encoding='latin1')\n",
    "\n",
    "print(\"UCDP shape:\", ucdp_df.shape)\n",
    "print(\"News shape:\", news_df.shape)\n",
    "print(\"\\nUCDP columns:\", ucdp_df.columns.tolist())\n",
    "print(\"\\nNews columns:\", news_df.columns.tolist())\n",
    "\n",
    "ucdp_df.head()"
   ]
  },
  {
   "cell_type": "markdown",
   "id": "28c4842f",
   "metadata": {
    "papermill": {
     "duration": 0.005787,
     "end_time": "2025-10-19T11:38:09.799084",
     "exception": false,
     "start_time": "2025-10-19T11:38:09.793297",
     "status": "completed"
    },
    "tags": []
   },
   "source": [
    "<div style=\"background:linear-gradient(135deg,#fce4ec,#e3f2fd); padding:20px; border-radius:15px; \n",
    "box-shadow:0 5px 15px rgba(0,0,0,0.1); font-family:'Segoe UI',Arial,sans-serif;\">\n",
    "\n",
    "  <h1 style=\"font-size:24px; color:#6a1b9a; text-align:center;\">\n",
    "    🔍 <span style=\"background:linear-gradient(90deg,#ab47bc,#1e88e5);\n",
    "    -webkit-background-clip:text; color:transparent;\">\n",
    "      Feature Exploration: Identifying Temporal and Geopolitical Columns\n",
    "    </span>\n",
    "  </h1>\n",
    "\n",
    "  <p style=\"font-size:15px; color:#37474f; text-align:center;\">\n",
    "    Exploring <b style=\"color:#8e24aa;\">UCDP conflict dataset</b> to detect columns related to \n",
    "    <b style=\"color:#1565c0;\">year</b>, <b style=\"color:#00897b;\">onset/start events</b>, \n",
    "    and <b style=\"color:#d32f2f;\">country/location</b>.\n",
    "  </p>\n",
    "\n",
    "  <p style=\"font-size:13px; color:#546e7a; text-align:center;\">\n",
    "    🧭 This helps in structuring the dataset for time-series and geopolitical trend modeling later.\n",
    "  </p>\n",
    "</div>"
   ]
  },
  {
   "cell_type": "code",
   "execution_count": 2,
   "id": "f6502c7b",
   "metadata": {
    "execution": {
     "iopub.execute_input": "2025-10-19T11:38:09.812189Z",
     "iopub.status.busy": "2025-10-19T11:38:09.811572Z",
     "iopub.status.idle": "2025-10-19T11:38:09.824085Z",
     "shell.execute_reply": "2025-10-19T11:38:09.823397Z"
    },
    "papermill": {
     "duration": 0.020112,
     "end_time": "2025-10-19T11:38:09.825273",
     "exception": false,
     "start_time": "2025-10-19T11:38:09.805161",
     "status": "completed"
    },
    "tags": []
   },
   "outputs": [
    {
     "name": "stdout",
     "output_type": "stream",
     "text": [
      "Possible year columns: ['year', 'year_prev']\n",
      "Possible onset/start columns: ['onset1', 'onset2', 'onset3', 'onset5', 'onset10', 'onset20']\n",
      "Possible country columns: []\n"
     ]
    },
    {
     "name": "stderr",
     "output_type": "stream",
     "text": [
      "/usr/local/lib/python3.11/dist-packages/pandas/io/formats/format.py:1458: RuntimeWarning: invalid value encountered in greater\n",
      "  has_large_values = (abs_vals > 1e6).any()\n",
      "/usr/local/lib/python3.11/dist-packages/pandas/io/formats/format.py:1459: RuntimeWarning: invalid value encountered in less\n",
      "  has_small_values = ((abs_vals < 10 ** (-self.digits)) & (abs_vals > 0)).any()\n",
      "/usr/local/lib/python3.11/dist-packages/pandas/io/formats/format.py:1459: RuntimeWarning: invalid value encountered in greater\n",
      "  has_small_values = ((abs_vals < 10 ** (-self.digits)) & (abs_vals > 0)).any()\n"
     ]
    },
    {
     "data": {
      "text/html": [
       "<div>\n",
       "<style scoped>\n",
       "    .dataframe tbody tr th:only-of-type {\n",
       "        vertical-align: middle;\n",
       "    }\n",
       "\n",
       "    .dataframe tbody tr th {\n",
       "        vertical-align: top;\n",
       "    }\n",
       "\n",
       "    .dataframe thead th {\n",
       "        text-align: right;\n",
       "    }\n",
       "</style>\n",
       "<table border=\"1\" class=\"dataframe\">\n",
       "  <thead>\n",
       "    <tr style=\"text-align: right;\">\n",
       "      <th></th>\n",
       "      <th>abc</th>\n",
       "      <th>name</th>\n",
       "      <th>year</th>\n",
       "      <th>gwno_a</th>\n",
       "      <th>newconf</th>\n",
       "      <th>onset1</th>\n",
       "      <th>onset2</th>\n",
       "      <th>onset3</th>\n",
       "      <th>onset5</th>\n",
       "      <th>onset10</th>\n",
       "      <th>onset20</th>\n",
       "      <th>conflict_ids</th>\n",
       "      <th>year_prev</th>\n",
       "    </tr>\n",
       "  </thead>\n",
       "  <tbody>\n",
       "    <tr>\n",
       "      <th>0</th>\n",
       "      <td>AFG</td>\n",
       "      <td>Afghanistan</td>\n",
       "      <td>1946</td>\n",
       "      <td>700</td>\n",
       "      <td>0</td>\n",
       "      <td>0</td>\n",
       "      <td>0</td>\n",
       "      <td>0</td>\n",
       "      <td>0</td>\n",
       "      <td>0</td>\n",
       "      <td>0</td>\n",
       "      <td>NaN</td>\n",
       "      <td></td>\n",
       "    </tr>\n",
       "    <tr>\n",
       "      <th>1</th>\n",
       "      <td>AFG</td>\n",
       "      <td>Afghanistan</td>\n",
       "      <td>1947</td>\n",
       "      <td>700</td>\n",
       "      <td>0</td>\n",
       "      <td>0</td>\n",
       "      <td>0</td>\n",
       "      <td>0</td>\n",
       "      <td>0</td>\n",
       "      <td>0</td>\n",
       "      <td>0</td>\n",
       "      <td>NaN</td>\n",
       "      <td></td>\n",
       "    </tr>\n",
       "    <tr>\n",
       "      <th>2</th>\n",
       "      <td>AFG</td>\n",
       "      <td>Afghanistan</td>\n",
       "      <td>1948</td>\n",
       "      <td>700</td>\n",
       "      <td>0</td>\n",
       "      <td>0</td>\n",
       "      <td>0</td>\n",
       "      <td>0</td>\n",
       "      <td>0</td>\n",
       "      <td>0</td>\n",
       "      <td>0</td>\n",
       "      <td>NaN</td>\n",
       "      <td></td>\n",
       "    </tr>\n",
       "    <tr>\n",
       "      <th>3</th>\n",
       "      <td>AFG</td>\n",
       "      <td>Afghanistan</td>\n",
       "      <td>1949</td>\n",
       "      <td>700</td>\n",
       "      <td>0</td>\n",
       "      <td>0</td>\n",
       "      <td>0</td>\n",
       "      <td>0</td>\n",
       "      <td>0</td>\n",
       "      <td>0</td>\n",
       "      <td>0</td>\n",
       "      <td>NaN</td>\n",
       "      <td></td>\n",
       "    </tr>\n",
       "    <tr>\n",
       "      <th>4</th>\n",
       "      <td>AFG</td>\n",
       "      <td>Afghanistan</td>\n",
       "      <td>1950</td>\n",
       "      <td>700</td>\n",
       "      <td>0</td>\n",
       "      <td>0</td>\n",
       "      <td>0</td>\n",
       "      <td>0</td>\n",
       "      <td>0</td>\n",
       "      <td>0</td>\n",
       "      <td>0</td>\n",
       "      <td>NaN</td>\n",
       "      <td></td>\n",
       "    </tr>\n",
       "    <tr>\n",
       "      <th>5</th>\n",
       "      <td>AFG</td>\n",
       "      <td>Afghanistan</td>\n",
       "      <td>1951</td>\n",
       "      <td>700</td>\n",
       "      <td>0</td>\n",
       "      <td>0</td>\n",
       "      <td>0</td>\n",
       "      <td>0</td>\n",
       "      <td>0</td>\n",
       "      <td>0</td>\n",
       "      <td>0</td>\n",
       "      <td>NaN</td>\n",
       "      <td></td>\n",
       "    </tr>\n",
       "    <tr>\n",
       "      <th>6</th>\n",
       "      <td>AFG</td>\n",
       "      <td>Afghanistan</td>\n",
       "      <td>1952</td>\n",
       "      <td>700</td>\n",
       "      <td>0</td>\n",
       "      <td>0</td>\n",
       "      <td>0</td>\n",
       "      <td>0</td>\n",
       "      <td>0</td>\n",
       "      <td>0</td>\n",
       "      <td>0</td>\n",
       "      <td>NaN</td>\n",
       "      <td></td>\n",
       "    </tr>\n",
       "    <tr>\n",
       "      <th>7</th>\n",
       "      <td>AFG</td>\n",
       "      <td>Afghanistan</td>\n",
       "      <td>1953</td>\n",
       "      <td>700</td>\n",
       "      <td>0</td>\n",
       "      <td>0</td>\n",
       "      <td>0</td>\n",
       "      <td>0</td>\n",
       "      <td>0</td>\n",
       "      <td>0</td>\n",
       "      <td>0</td>\n",
       "      <td>NaN</td>\n",
       "      <td></td>\n",
       "    </tr>\n",
       "    <tr>\n",
       "      <th>8</th>\n",
       "      <td>AFG</td>\n",
       "      <td>Afghanistan</td>\n",
       "      <td>1954</td>\n",
       "      <td>700</td>\n",
       "      <td>0</td>\n",
       "      <td>0</td>\n",
       "      <td>0</td>\n",
       "      <td>0</td>\n",
       "      <td>0</td>\n",
       "      <td>0</td>\n",
       "      <td>0</td>\n",
       "      <td>NaN</td>\n",
       "      <td></td>\n",
       "    </tr>\n",
       "    <tr>\n",
       "      <th>9</th>\n",
       "      <td>AFG</td>\n",
       "      <td>Afghanistan</td>\n",
       "      <td>1955</td>\n",
       "      <td>700</td>\n",
       "      <td>0</td>\n",
       "      <td>0</td>\n",
       "      <td>0</td>\n",
       "      <td>0</td>\n",
       "      <td>0</td>\n",
       "      <td>0</td>\n",
       "      <td>0</td>\n",
       "      <td>NaN</td>\n",
       "      <td></td>\n",
       "    </tr>\n",
       "  </tbody>\n",
       "</table>\n",
       "</div>"
      ],
      "text/plain": [
       "   abc         name  year  gwno_a  newconf  onset1  onset2  onset3  onset5  \\\n",
       "0  AFG  Afghanistan  1946     700        0       0       0       0       0   \n",
       "1  AFG  Afghanistan  1947     700        0       0       0       0       0   \n",
       "2  AFG  Afghanistan  1948     700        0       0       0       0       0   \n",
       "3  AFG  Afghanistan  1949     700        0       0       0       0       0   \n",
       "4  AFG  Afghanistan  1950     700        0       0       0       0       0   \n",
       "5  AFG  Afghanistan  1951     700        0       0       0       0       0   \n",
       "6  AFG  Afghanistan  1952     700        0       0       0       0       0   \n",
       "7  AFG  Afghanistan  1953     700        0       0       0       0       0   \n",
       "8  AFG  Afghanistan  1954     700        0       0       0       0       0   \n",
       "9  AFG  Afghanistan  1955     700        0       0       0       0       0   \n",
       "\n",
       "   onset10  onset20  conflict_ids year_prev  \n",
       "0        0        0           NaN            \n",
       "1        0        0           NaN            \n",
       "2        0        0           NaN            \n",
       "3        0        0           NaN            \n",
       "4        0        0           NaN            \n",
       "5        0        0           NaN            \n",
       "6        0        0           NaN            \n",
       "7        0        0           NaN            \n",
       "8        0        0           NaN            \n",
       "9        0        0           NaN            "
      ]
     },
     "execution_count": 2,
     "metadata": {},
     "output_type": "execute_result"
    }
   ],
   "source": [
    "cols = [c.lower() for c in ucdp_df.columns]\n",
    "\n",
    "year_cols = [c for c in ucdp_df.columns if 'year' in c.lower()]\n",
    "onset_cols = [c for c in ucdp_df.columns if 'onset' in c.lower() or 'start' in c.lower()]\n",
    "country_cols = [c for c in ucdp_df.columns if 'country' in c.lower() or 'location' in c.lower()]\n",
    "\n",
    "print(\"Possible year columns:\", year_cols)\n",
    "print(\"Possible onset/start columns:\", onset_cols)\n",
    "print(\"Possible country columns:\", country_cols)\n",
    "\n",
    "ucdp_df.head(10)"
   ]
  },
  {
   "cell_type": "code",
   "execution_count": 3,
   "id": "095b5e1c",
   "metadata": {
    "execution": {
     "iopub.execute_input": "2025-10-19T11:38:09.846346Z",
     "iopub.status.busy": "2025-10-19T11:38:09.846137Z",
     "iopub.status.idle": "2025-10-19T11:38:09.871618Z",
     "shell.execute_reply": "2025-10-19T11:38:09.870827Z"
    },
    "papermill": {
     "duration": 0.038822,
     "end_time": "2025-10-19T11:38:09.873273",
     "exception": false,
     "start_time": "2025-10-19T11:38:09.834451",
     "status": "completed"
    },
    "tags": []
   },
   "outputs": [
    {
     "name": "stdout",
     "output_type": "stream",
     "text": [
      "After processing:\n",
      "          name  year  newconf\n",
      "0  Afghanistan  1946        0\n",
      "1  Afghanistan  1947        0\n",
      "2  Afghanistan  1948        0\n",
      "3  Afghanistan  1949        0\n",
      "4  Afghanistan  1950        0\n",
      "5  Afghanistan  1951        0\n",
      "6  Afghanistan  1952        0\n",
      "7  Afghanistan  1953        0\n",
      "8  Afghanistan  1954        0\n",
      "9  Afghanistan  1955        0\n",
      "\n",
      "Unique countries: 203\n",
      "Years range: 1946 - 2024\n"
     ]
    }
   ],
   "source": [
    "onset_cols = ['onset1', 'onset2', 'onset3', 'onset5', 'onset10', 'onset20']\n",
    "\n",
    "ucdp_df['newconf'] = ucdp_df[onset_cols].max(axis=1)\n",
    "ucdp_df = ucdp_df[['name', 'year', 'newconf']]\n",
    "\n",
    "print(\"After processing:\")\n",
    "print(ucdp_df.head(10))\n",
    "print(\"\\nUnique countries:\", len(ucdp_df['name'].unique()))\n",
    "print(\"Years range:\", ucdp_df['year'].min(), \"-\", ucdp_df['year'].max())"
   ]
  },
  {
   "cell_type": "code",
   "execution_count": 4,
   "id": "7ac51444",
   "metadata": {
    "execution": {
     "iopub.execute_input": "2025-10-19T11:38:09.892490Z",
     "iopub.status.busy": "2025-10-19T11:38:09.892291Z",
     "iopub.status.idle": "2025-10-19T11:38:09.973123Z",
     "shell.execute_reply": "2025-10-19T11:38:09.972338Z"
    },
    "papermill": {
     "duration": 0.090511,
     "end_time": "2025-10-19T11:38:09.974401",
     "exception": false,
     "start_time": "2025-10-19T11:38:09.883890",
     "status": "completed"
    },
    "tags": []
   },
   "outputs": [
    {
     "name": "stdout",
     "output_type": "stream",
     "text": [
      " News data after cleaning:\n",
      "    year         name                                          Headlines  \\\n",
      "52  2022  Afghanistan                     World Report 2022: Afghanistan   \n",
      "56  2022  Afghanistan  Murky Militias in Forgotten Provinces Reveal W...   \n",
      "57  2021  Afghanistan  Calculating the costs of the Afghanistan War i...   \n",
      "58  2021  Afghanistan  Afghanistans war will spread beyond its borde...   \n",
      "59  2021  Afghanistan  US 'lost' the 20-year war in Afghanistan: top ...   \n",
      "61  2021  Afghanistan  Remembering the Gains of the Afghanistan War -...   \n",
      "62  2021  Afghanistan  Costs of the Afghanistan war, in lives and dol...   \n",
      "63  2021  Afghanistan  The U.S. War in Afghanistan Twenty Years On: P...   \n",
      "64  2021  Afghanistan  'Intelligence failure of the highest order'  ...   \n",
      "65  2021  Afghanistan     The failures of the Afghanistan War, explained   \n",
      "\n",
      "                                              Summary  \\\n",
      "52  Unlawful Killings, Enforced Disappearances, Vi...   \n",
      "56  Murky Militias in Forgotten Provinces Reveal W...   \n",
      "57  The U.S. invaded Afghanistan in late 2001 to d...   \n",
      "58  This war will not be contained within the bord...   \n",
      "59  \"It is clear, it is obvious to all of us, that...   \n",
      "61  11 attacks and the war in Afghanistan. The ear...   \n",
      "62  At just short of 20 years, the now-ending U.S....   \n",
      "63  Two decades after the start of Operation Endur...   \n",
      "64  American troops cannot and should not be figh...   \n",
      "65  The two-decade Afghanistan War had a monumenta...   \n",
      "\n",
      "                           Press  \n",
      "52            Human Rights Watch  \n",
      "56                  The Diplomat  \n",
      "57              The Conversation  \n",
      "58                          CNBC  \n",
      "59                     France 24  \n",
      "61                  Lawfare Blog  \n",
      "62                       AP News  \n",
      "63  Council on Foreign Relations  \n",
      "64                          CNBC  \n",
      "65               Annenberg Media  \n",
      "\n",
      "Unique countries: 20\n"
     ]
    },
    {
     "name": "stderr",
     "output_type": "stream",
     "text": [
      "/tmp/ipykernel_19/3988782346.py:3: UserWarning: Could not infer format, so each element will be parsed individually, falling back to `dateutil`. To ensure parsing is consistent and as-expected, please specify a format.\n",
      "  news_df['year'] = pd.to_datetime(news_df['date'], errors='coerce').dt.year\n"
     ]
    }
   ],
   "source": [
    "\n",
    "news_df = news_df.rename(columns={'Keyword': 'name', 'Date': 'date'})\n",
    "\n",
    "news_df['year'] = pd.to_datetime(news_df['date'], errors='coerce').dt.year\n",
    "\n",
    "news_df = news_df.dropna(subset=['year', 'name'])\n",
    "\n",
    "news_df['year'] = news_df['year'].astype(int)\n",
    "\n",
    "news_df = news_df[['year', 'name', 'Headlines', 'Summary', 'Press']]\n",
    "\n",
    "print(\" News data after cleaning:\")\n",
    "print(news_df.head(10))\n",
    "print(\"\\nUnique countries:\", len(news_df['name'].unique()))"
   ]
  },
  {
   "cell_type": "code",
   "execution_count": 5,
   "id": "ddd4a85b",
   "metadata": {
    "execution": {
     "iopub.execute_input": "2025-10-19T11:38:09.987859Z",
     "iopub.status.busy": "2025-10-19T11:38:09.987656Z",
     "iopub.status.idle": "2025-10-19T11:38:09.997091Z",
     "shell.execute_reply": "2025-10-19T11:38:09.996377Z"
    },
    "papermill": {
     "duration": 0.017295,
     "end_time": "2025-10-19T11:38:09.998139",
     "exception": false,
     "start_time": "2025-10-19T11:38:09.980844",
     "status": "completed"
    },
    "tags": []
   },
   "outputs": [
    {
     "name": "stdout",
     "output_type": "stream",
     "text": [
      " UCDP data after cleaning:\n",
      "   year         name\n",
      "0  1946  Afghanistan\n",
      "1  1947  Afghanistan\n",
      "2  1948  Afghanistan\n",
      "3  1949  Afghanistan\n",
      "4  1950  Afghanistan\n",
      "5  1951  Afghanistan\n",
      "6  1952  Afghanistan\n",
      "7  1953  Afghanistan\n",
      "8  1954  Afghanistan\n",
      "9  1955  Afghanistan\n",
      "\n",
      "Unique countries: 203\n"
     ]
    }
   ],
   "source": [
    "ucdp_df = ucdp_df.rename(columns={'year': 'year', 'location': 'name'})\n",
    "\n",
    "ucdp_df = ucdp_df.dropna(subset=['year', 'name'])\n",
    "\n",
    "ucdp_df['year'] = ucdp_df['year'].astype(int)\n",
    "\n",
    "print(\" UCDP data after cleaning:\")\n",
    "print(ucdp_df[['year', 'name']].head(10))\n",
    "print(\"\\nUnique countries:\", len(ucdp_df['name'].unique()))"
   ]
  },
  {
   "cell_type": "markdown",
   "id": "d1d75d29",
   "metadata": {
    "papermill": {
     "duration": 0.006137,
     "end_time": "2025-10-19T11:38:10.010618",
     "exception": false,
     "start_time": "2025-10-19T11:38:10.004481",
     "status": "completed"
    },
    "tags": []
   },
   "source": [
    "# **Merge the news data with the UCDP conflict data based on country and year**\n"
   ]
  },
  {
   "cell_type": "code",
   "execution_count": 6,
   "id": "4ce03006",
   "metadata": {
    "execution": {
     "iopub.execute_input": "2025-10-19T11:38:10.023828Z",
     "iopub.status.busy": "2025-10-19T11:38:10.023627Z",
     "iopub.status.idle": "2025-10-19T11:38:10.043038Z",
     "shell.execute_reply": "2025-10-19T11:38:10.042232Z"
    },
    "papermill": {
     "duration": 0.027144,
     "end_time": "2025-10-19T11:38:10.044041",
     "exception": false,
     "start_time": "2025-10-19T11:38:10.016897",
     "status": "completed"
    },
    "tags": []
   },
   "outputs": [
    {
     "name": "stdout",
     "output_type": "stream",
     "text": [
      " Merged dataset:\n",
      "   year         name                                          Headlines  \\\n",
      "0  2022  Afghanistan                     World Report 2022: Afghanistan   \n",
      "1  2022  Afghanistan  Murky Militias in Forgotten Provinces Reveal W...   \n",
      "2  2021  Afghanistan  Calculating the costs of the Afghanistan War i...   \n",
      "3  2021  Afghanistan  Afghanistans war will spread beyond its borde...   \n",
      "4  2021  Afghanistan  US 'lost' the 20-year war in Afghanistan: top ...   \n",
      "5  2021  Afghanistan  Remembering the Gains of the Afghanistan War -...   \n",
      "6  2021  Afghanistan  Costs of the Afghanistan war, in lives and dol...   \n",
      "7  2021  Afghanistan  The U.S. War in Afghanistan Twenty Years On: P...   \n",
      "8  2021  Afghanistan  'Intelligence failure of the highest order'  ...   \n",
      "9  2021  Afghanistan     The failures of the Afghanistan War, explained   \n",
      "\n",
      "                                             Summary  \\\n",
      "0  Unlawful Killings, Enforced Disappearances, Vi...   \n",
      "1  Murky Militias in Forgotten Provinces Reveal W...   \n",
      "2  The U.S. invaded Afghanistan in late 2001 to d...   \n",
      "3  This war will not be contained within the bord...   \n",
      "4  \"It is clear, it is obvious to all of us, that...   \n",
      "5  11 attacks and the war in Afghanistan. The ear...   \n",
      "6  At just short of 20 years, the now-ending U.S....   \n",
      "7  Two decades after the start of Operation Endur...   \n",
      "8  American troops cannot and should not be figh...   \n",
      "9  The two-decade Afghanistan War had a monumenta...   \n",
      "\n",
      "                          Press  newconf  \n",
      "0            Human Rights Watch      0.0  \n",
      "1                  The Diplomat      0.0  \n",
      "2              The Conversation      0.0  \n",
      "3                          CNBC      0.0  \n",
      "4                     France 24      0.0  \n",
      "5                  Lawfare Blog      0.0  \n",
      "6                       AP News      0.0  \n",
      "7  Council on Foreign Relations      0.0  \n",
      "8                          CNBC      0.0  \n",
      "9               Annenberg Media      0.0  \n",
      "\n",
      "Number of rows after merging: 3550\n",
      "Number of columns: 6\n",
      "Columns available: ['year', 'name', 'Headlines', 'Summary', 'Press', 'newconf']\n"
     ]
    }
   ],
   "source": [
    "merged_df = pd.merge(news_df, ucdp_df, on=['year', 'name'], how='left')\n",
    "\n",
    "print(\" Merged dataset:\")\n",
    "print(merged_df.head(10))\n",
    "\n",
    "print(\"\\nNumber of rows after merging:\", len(merged_df))\n",
    "print(\"Number of columns:\", len(merged_df.columns))\n",
    "print(\"Columns available:\", merged_df.columns.tolist())"
   ]
  },
  {
   "cell_type": "markdown",
   "id": "6af141bb",
   "metadata": {
    "papermill": {
     "duration": 0.006222,
     "end_time": "2025-10-19T11:38:10.056661",
     "exception": false,
     "start_time": "2025-10-19T11:38:10.050439",
     "status": "completed"
    },
    "tags": []
   },
   "source": [
    "# Basic information about the merged dataset\n"
   ]
  },
  {
   "cell_type": "code",
   "execution_count": 7,
   "id": "754a2648",
   "metadata": {
    "execution": {
     "iopub.execute_input": "2025-10-19T11:38:10.070237Z",
     "iopub.status.busy": "2025-10-19T11:38:10.070030Z",
     "iopub.status.idle": "2025-10-19T11:38:10.096615Z",
     "shell.execute_reply": "2025-10-19T11:38:10.095800Z"
    },
    "papermill": {
     "duration": 0.034494,
     "end_time": "2025-10-19T11:38:10.097658",
     "exception": false,
     "start_time": "2025-10-19T11:38:10.063164",
     "status": "completed"
    },
    "tags": []
   },
   "outputs": [
    {
     "name": "stdout",
     "output_type": "stream",
     "text": [
      " Basic info:\n",
      "<class 'pandas.core.frame.DataFrame'>\n",
      "RangeIndex: 3550 entries, 0 to 3549\n",
      "Data columns (total 6 columns):\n",
      " #   Column     Non-Null Count  Dtype  \n",
      "---  ------     --------------  -----  \n",
      " 0   year       3550 non-null   int64  \n",
      " 1   name       3550 non-null   object \n",
      " 2   Headlines  3550 non-null   object \n",
      " 3   Summary    3550 non-null   object \n",
      " 4   Press      3550 non-null   object \n",
      " 5   newconf    3086 non-null   float64\n",
      "dtypes: float64(1), int64(1), object(4)\n",
      "memory usage: 166.5+ KB\n",
      "None\n",
      "\n",
      " Basic statistics:\n",
      "              year      newconf\n",
      "count  3550.000000  3086.000000\n",
      "mean   2020.396338     0.141283\n",
      "std       1.992473     0.348370\n",
      "min    2006.000000     0.000000\n",
      "25%    2020.000000     0.000000\n",
      "50%    2021.000000     0.000000\n",
      "75%    2022.000000     0.000000\n",
      "max    2022.000000     1.000000\n",
      "\n",
      " Unique countries: 20\n",
      " Year range: 2006 to 2022\n"
     ]
    }
   ],
   "source": [
    "print(\" Basic info:\")\n",
    "print(merged_df.info())\n",
    "\n",
    "print(\"\\n Basic statistics:\")\n",
    "print(merged_df.describe())\n",
    "\n",
    "print(\"\\n Unique countries:\", merged_df['name'].nunique())\n",
    "print(\" Year range:\", merged_df['year'].min(), \"to\", merged_df['year'].max())"
   ]
  },
  {
   "cell_type": "code",
   "execution_count": 8,
   "id": "2360146b",
   "metadata": {
    "execution": {
     "iopub.execute_input": "2025-10-19T11:38:10.111506Z",
     "iopub.status.busy": "2025-10-19T11:38:10.111301Z",
     "iopub.status.idle": "2025-10-19T11:38:10.446747Z",
     "shell.execute_reply": "2025-10-19T11:38:10.446021Z"
    },
    "papermill": {
     "duration": 0.343669,
     "end_time": "2025-10-19T11:38:10.447867",
     "exception": false,
     "start_time": "2025-10-19T11:38:10.104198",
     "status": "completed"
    },
    "tags": []
   },
   "outputs": [
    {
     "data": {
      "image/png": "[encoded data removed]",
      "text/plain": [
       "<Figure size 1000x500 with 1 Axes>"
      ]
     },
     "metadata": {},
     "output_type": "display_data"
    }
   ],
   "source": [
    "\n",
    "news_per_year = merged_df['year'].value_counts().sort_index()\n",
    "\n",
    "conflicts_per_year = merged_df.groupby('year')['newconf'].sum()\n",
    "\n",
    "plt.figure(figsize=(10,5))\n",
    "plt.plot(news_per_year.index, news_per_year.values, marker='o', label='Number of News Articles')\n",
    "plt.plot(conflicts_per_year.index, conflicts_per_year.values, marker='x', label='Number of Conflicts (newconf=1)')\n",
    "plt.title(' News and Conflicts per Year')\n",
    "plt.xlabel('Year')\n",
    "plt.ylabel('Count')\n",
    "plt.legend()\n",
    "plt.grid(True)\n",
    "plt.show()"
   ]
  },
  {
   "cell_type": "code",
   "execution_count": 9,
   "id": "a5fc73a9",
   "metadata": {
    "execution": {
     "iopub.execute_input": "2025-10-19T11:38:10.464083Z",
     "iopub.status.busy": "2025-10-19T11:38:10.463663Z",
     "iopub.status.idle": "2025-10-19T11:38:10.836900Z",
     "shell.execute_reply": "2025-10-19T11:38:10.836181Z"
    },
    "papermill": {
     "duration": 0.38249,
     "end_time": "2025-10-19T11:38:10.838164",
     "exception": false,
     "start_time": "2025-10-19T11:38:10.455674",
     "status": "completed"
    },
    "tags": []
   },
   "outputs": [
    {
     "data": {
      "image/png": "[encoded data removed]",
      "text/plain": [
       "<Figure size 1200x500 with 2 Axes>"
      ]
     },
     "metadata": {},
     "output_type": "display_data"
    }
   ],
   "source": [
    "news_per_country = merged_df['name'].value_counts().head(10)\n",
    "\n",
    "conflicts_per_country = merged_df.groupby('name')['newconf'].sum().sort_values(ascending=False).head(10)\n",
    "\n",
    "plt.figure(figsize=(12,5))\n",
    "\n",
    "plt.subplot(1,2,1)\n",
    "news_per_country.plot(kind='bar', color='steelblue')\n",
    "plt.title(' Top 10 Countries by Number of News Articles')\n",
    "plt.xlabel('Country')\n",
    "plt.ylabel('Count')\n",
    "\n",
    "plt.subplot(1,2,2)\n",
    "conflicts_per_country.plot(kind='bar', color='tomato')\n",
    "plt.title(' Top 10 Countries by Number of Conflicts (newconf=1)')\n",
    "plt.xlabel('Country')\n",
    "plt.ylabel('Count')\n",
    "\n",
    "plt.tight_layout()\n",
    "plt.show()"
   ]
  },
  {
   "cell_type": "markdown",
   "id": "067c1e1d",
   "metadata": {
    "papermill": {
     "duration": 0.007949,
     "end_time": "2025-10-19T11:38:10.854688",
     "exception": false,
     "start_time": "2025-10-19T11:38:10.846739",
     "status": "completed"
    },
    "tags": []
   },
   "source": [
    "# **Create text column and keyword-based label**\n"
   ]
  },
  {
   "cell_type": "code",
   "execution_count": 10,
   "id": "a223f19d",
   "metadata": {
    "execution": {
     "iopub.execute_input": "2025-10-19T11:38:10.871776Z",
     "iopub.status.busy": "2025-10-19T11:38:10.871565Z",
     "iopub.status.idle": "2025-10-19T11:38:10.889568Z",
     "shell.execute_reply": "2025-10-19T11:38:10.889018Z"
    },
    "papermill": {
     "duration": 0.027856,
     "end_time": "2025-10-19T11:38:10.890599",
     "exception": false,
     "start_time": "2025-10-19T11:38:10.862743",
     "status": "completed"
    },
    "tags": []
   },
   "outputs": [
    {
     "name": "stdout",
     "output_type": "stream",
     "text": [
      "Label distribution (keyword baseline):\n",
      "label_kw\n",
      "1    3377\n",
      "0     167\n",
      "Name: count, dtype: int64\n"
     ]
    }
   ],
   "source": [
    "\n",
    "news_df['text'] = (news_df['Headlines'].fillna('') + ' . ' + news_df['Summary'].fillna('')).str.strip()\n",
    "\n",
    "def detect_conflict_kw(text):\n",
    "    keywords = [\n",
    "        'war','conflict','attack','attacked','battle','fighting','clash','invasion',\n",
    "        'bomb','bombing','missile','shelling','casualties','siege','insurgent',\n",
    "        'rebellion','uprising','militia','airstrike','nuclear','troops','army','soldier',\n",
    "        'escalat','tension','escalation','ceasefire','occupation'\n",
    "    ]\n",
    "    t = str(text).lower()\n",
    "    return int(any(k in t for k in keywords))\n",
    "\n",
    "news_df['label_kw'] = news_df['text'].apply(detect_conflict_kw)\n",
    "\n",
    "print(\"Label distribution (keyword baseline):\")\n",
    "print(news_df['label_kw'].value_counts(dropna=False))"
   ]
  },
  {
   "cell_type": "code",
   "execution_count": 11,
   "id": "178de1da",
   "metadata": {
    "execution": {
     "iopub.execute_input": "2025-10-19T11:38:10.908081Z",
     "iopub.status.busy": "2025-10-19T11:38:10.907859Z",
     "iopub.status.idle": "2025-10-19T11:38:10.980864Z",
     "shell.execute_reply": "2025-10-19T11:38:10.980242Z"
    },
    "papermill": {
     "duration": 0.083162,
     "end_time": "2025-10-19T11:38:10.981905",
     "exception": false,
     "start_time": "2025-10-19T11:38:10.898743",
     "status": "completed"
    },
    "tags": []
   },
   "outputs": [
    {
     "data": {
      "text/html": [
       "<div>\n",
       "<style scoped>\n",
       "    .dataframe tbody tr th:only-of-type {\n",
       "        vertical-align: middle;\n",
       "    }\n",
       "\n",
       "    .dataframe tbody tr th {\n",
       "        vertical-align: top;\n",
       "    }\n",
       "\n",
       "    .dataframe thead th {\n",
       "        text-align: right;\n",
       "    }\n",
       "</style>\n",
       "<table border=\"1\" class=\"dataframe\">\n",
       "  <thead>\n",
       "    <tr style=\"text-align: right;\">\n",
       "      <th></th>\n",
       "      <th>text</th>\n",
       "      <th>text_clean</th>\n",
       "      <th>label_kw</th>\n",
       "    </tr>\n",
       "  </thead>\n",
       "  <tbody>\n",
       "    <tr>\n",
       "      <th>52</th>\n",
       "      <td>World Report 2022: Afghanistan . Unlawful Kill...</td>\n",
       "      <td>world report 2022 afghanistan unlawful killing...</td>\n",
       "      <td>1</td>\n",
       "    </tr>\n",
       "    <tr>\n",
       "      <th>56</th>\n",
       "      <td>Murky Militias in Forgotten Provinces Reveal W...</td>\n",
       "      <td>murky militias in forgotten provinces reveal w...</td>\n",
       "      <td>1</td>\n",
       "    </tr>\n",
       "    <tr>\n",
       "      <th>57</th>\n",
       "      <td>Calculating the costs of the Afghanistan War i...</td>\n",
       "      <td>calculating the costs of the afghanistan war i...</td>\n",
       "      <td>1</td>\n",
       "    </tr>\n",
       "    <tr>\n",
       "      <th>58</th>\n",
       "      <td>Afghanistans war will spread beyond its borde...</td>\n",
       "      <td>afghanistan s war will spread beyond its borde...</td>\n",
       "      <td>1</td>\n",
       "    </tr>\n",
       "    <tr>\n",
       "      <th>59</th>\n",
       "      <td>US 'lost' the 20-year war in Afghanistan: top ...</td>\n",
       "      <td>us lost the 20 year war in afghanistan top us ...</td>\n",
       "      <td>1</td>\n",
       "    </tr>\n",
       "    <tr>\n",
       "      <th>61</th>\n",
       "      <td>Remembering the Gains of the Afghanistan War -...</td>\n",
       "      <td>remembering the gains of the afghanistan war l...</td>\n",
       "      <td>1</td>\n",
       "    </tr>\n",
       "  </tbody>\n",
       "</table>\n",
       "</div>"
      ],
      "text/plain": [
       "                                                 text  \\\n",
       "52  World Report 2022: Afghanistan . Unlawful Kill...   \n",
       "56  Murky Militias in Forgotten Provinces Reveal W...   \n",
       "57  Calculating the costs of the Afghanistan War i...   \n",
       "58  Afghanistans war will spread beyond its borde...   \n",
       "59  US 'lost' the 20-year war in Afghanistan: top ...   \n",
       "61  Remembering the Gains of the Afghanistan War -...   \n",
       "\n",
       "                                           text_clean  label_kw  \n",
       "52  world report 2022 afghanistan unlawful killing...         1  \n",
       "56  murky militias in forgotten provinces reveal w...         1  \n",
       "57  calculating the costs of the afghanistan war i...         1  \n",
       "58  afghanistan s war will spread beyond its borde...         1  \n",
       "59  us lost the 20 year war in afghanistan top us ...         1  \n",
       "61  remembering the gains of the afghanistan war l...         1  "
      ]
     },
     "execution_count": 11,
     "metadata": {},
     "output_type": "execute_result"
    }
   ],
   "source": [
    "import re\n",
    "\n",
    "def clean_text(s):\n",
    "    s = str(s)\n",
    "    s = s.lower()\n",
    "    s = re.sub(r'http\\S+',' ', s)            \n",
    "    s = re.sub(r'[^a-z0-9\\s]', ' ', s)       \n",
    "    s = re.sub(r'\\s+', ' ', s).strip()\n",
    "    return s\n",
    "\n",
    "news_df['text_clean'] = news_df['text'].apply(clean_text)\n",
    "news_df[['text','text_clean','label_kw']].head(6)"
   ]
  },
  {
   "cell_type": "markdown",
   "id": "b4ab98df",
   "metadata": {
    "papermill": {
     "duration": 0.008158,
     "end_time": "2025-10-19T11:38:10.998433",
     "exception": false,
     "start_time": "2025-10-19T11:38:10.990275",
     "status": "completed"
    },
    "tags": []
   },
   "source": [
    "# **TF-IDF and train-test split**\n"
   ]
  },
  {
   "cell_type": "code",
   "execution_count": 12,
   "id": "062302c9",
   "metadata": {
    "execution": {
     "iopub.execute_input": "2025-10-19T11:38:11.015901Z",
     "iopub.status.busy": "2025-10-19T11:38:11.015330Z",
     "iopub.status.idle": "2025-10-19T11:38:11.564794Z",
     "shell.execute_reply": "2025-10-19T11:38:11.563824Z"
    },
    "papermill": {
     "duration": 0.559371,
     "end_time": "2025-10-19T11:38:11.565960",
     "exception": false,
     "start_time": "2025-10-19T11:38:11.006589",
     "status": "completed"
    },
    "tags": []
   },
   "outputs": [
    {
     "name": "stdout",
     "output_type": "stream",
     "text": [
      "Shapes: (2835, 5000) (709, 5000) Label dist (train):\n",
      "label_kw\n",
      "1    2701\n",
      "0     134\n",
      "Name: count, dtype: int64\n"
     ]
    }
   ],
   "source": [
    "from sklearn.feature_extraction.text import TfidfVectorizer\n",
    "from sklearn.model_selection import train_test_split\n",
    "\n",
    "X_text = news_df['text_clean'].fillna('')\n",
    "y = news_df['label_kw'].fillna(0).astype(int)\n",
    "\n",
    "tfidf = TfidfVectorizer(max_features=5000, ngram_range=(1,2), stop_words='english')\n",
    "X_tfidf = tfidf.fit_transform(X_text)\n",
    "\n",
    "X_train, X_test, y_train, y_test = train_test_split(\n",
    "    X_tfidf, y, test_size=0.2, random_state=42, stratify=y\n",
    ")\n",
    "\n",
    "print(\"Shapes:\", X_train.shape, X_test.shape, \"Label dist (train):\")\n",
    "print(y_train.value_counts())"
   ]
  },
  {
   "cell_type": "markdown",
   "id": "e73bf288",
   "metadata": {
    "papermill": {
     "duration": 0.0081,
     "end_time": "2025-10-19T11:38:11.582797",
     "exception": false,
     "start_time": "2025-10-19T11:38:11.574697",
     "status": "completed"
    },
    "tags": []
   },
   "source": [
    "# **TRY SMOTE, else proceed with class_weight**\n"
   ]
  },
  {
   "cell_type": "code",
   "execution_count": 13,
   "id": "cbe931ff",
   "metadata": {
    "execution": {
     "iopub.execute_input": "2025-10-19T11:38:11.600000Z",
     "iopub.status.busy": "2025-10-19T11:38:11.599744Z",
     "iopub.status.idle": "2025-10-19T11:38:11.620538Z",
     "shell.execute_reply": "2025-10-19T11:38:11.619724Z"
    },
    "papermill": {
     "duration": 0.030662,
     "end_time": "2025-10-19T11:38:11.621595",
     "exception": false,
     "start_time": "2025-10-19T11:38:11.590933",
     "status": "completed"
    },
    "tags": []
   },
   "outputs": [
    {
     "name": "stdout",
     "output_type": "stream",
     "text": [
      "SMOTE unavailable or failed: No module named 'sklearn.utils._metadata_requests'\n",
      "Proceeding without SMOTE; will use class_weight in the classifier.\n"
     ]
    }
   ],
   "source": [
    "try:\n",
    "    from imblearn.over_sampling import SMOTE\n",
    "    sm = SMOTE(random_state=42)\n",
    "    X_train_res, y_train_res = sm.fit_resample(X_train, y_train)\n",
    "    print(\"SMOTE applied. Resampled shape:\", X_train_res.shape, sum(y_train_res==1))\n",
    "except Exception as e:\n",
    "    print(\"SMOTE unavailable or failed:\", e)\n",
    "    X_train_res, y_train_res = X_train, y_train\n",
    "    print(\"Proceeding without SMOTE; will use class_weight in the classifier.\")"
   ]
  },
  {
   "cell_type": "markdown",
   "id": "8eac1ec1",
   "metadata": {
    "papermill": {
     "duration": 0.00842,
     "end_time": "2025-10-19T11:38:11.638433",
     "exception": false,
     "start_time": "2025-10-19T11:38:11.630013",
     "status": "completed"
    },
    "tags": []
   },
   "source": [
    "# **Train & evaluate a Logistic Regression**\n"
   ]
  },
  {
   "cell_type": "code",
   "execution_count": 14,
   "id": "39cc05e8",
   "metadata": {
    "execution": {
     "iopub.execute_input": "2025-10-19T11:38:11.655702Z",
     "iopub.status.busy": "2025-10-19T11:38:11.655493Z",
     "iopub.status.idle": "2025-10-19T11:38:11.971241Z",
     "shell.execute_reply": "2025-10-19T11:38:11.970623Z"
    },
    "papermill": {
     "duration": 0.326031,
     "end_time": "2025-10-19T11:38:11.972774",
     "exception": false,
     "start_time": "2025-10-19T11:38:11.646743",
     "status": "completed"
    },
    "tags": []
   },
   "outputs": [
    {
     "name": "stdout",
     "output_type": "stream",
     "text": [
      "Classification report:\n",
      "              precision    recall  f1-score   support\n",
      "\n",
      "           0       0.36      0.42      0.39        33\n",
      "           1       0.97      0.96      0.97       676\n",
      "\n",
      "    accuracy                           0.94       709\n",
      "   macro avg       0.67      0.69      0.68       709\n",
      "weighted avg       0.94      0.94      0.94       709\n",
      "\n",
      "ROC AUC: 0.9434731934731936\n",
      "Confusion matrix:\n",
      " [[ 14  19]\n",
      " [ 25 651]]\n"
     ]
    }
   ],
   "source": [
    "from sklearn.linear_model import LogisticRegression\n",
    "from sklearn.metrics import classification_report, roc_auc_score, confusion_matrix\n",
    "\n",
    "clf = LogisticRegression(max_iter=500, class_weight='balanced')  \n",
    "clf.fit(X_train_res, y_train_res)\n",
    "\n",
    "y_pred = clf.predict(X_test)\n",
    "y_proba = clf.predict_proba(X_test)[:,1] if hasattr(clf, \"predict_proba\") else None\n",
    "\n",
    "print(\"Classification report:\")\n",
    "print(classification_report(y_test, y_pred, zero_division=0))\n",
    "\n",
    "if y_proba is not None:\n",
    "    try:\n",
    "        print(\"ROC AUC:\", roc_auc_score(y_test, y_proba))\n",
    "    except Exception as e:\n",
    "        print(\"ROC AUC calculation failed:\", e)\n",
    "\n",
    "print(\"Confusion matrix:\\n\", confusion_matrix(y_test, y_pred))"
   ]
  },
  {
   "cell_type": "markdown",
   "id": "0a07a87f",
   "metadata": {
    "papermill": {
     "duration": 0.015228,
     "end_time": "2025-10-19T11:38:12.003307",
     "exception": false,
     "start_time": "2025-10-19T11:38:11.988079",
     "status": "completed"
    },
    "tags": []
   },
   "source": [
    "<div style=\"background:linear-gradient(135deg,#eaf4ff,#f0fbff); padding:18px; border-radius:12px;\n",
    "box-shadow:0 6px 18px rgba(10,40,80,0.08); font-family:'Segoe UI', Arial, sans-serif; text-align:center;\">\n",
    "  <h1 style=\"margin:6px 0; font-size:28px; color:#063970;\">\n",
    "    🌍 <span style=\"background:linear-gradient(90deg,#e74c3c,#f39c12); -webkit-background-clip:text; color:transparent;\">\n",
    "      Global Conflict Heatmap:\n",
    "    </span>\n",
    "    <span style=\"color:#0b3d91; font-weight:600;\">  top positive/negative features\n",
    "</span>\n",
    "  </h1>\n",
    "</div>"
   ]
  },
  {
   "cell_type": "code",
   "execution_count": 15,
   "id": "a4500c35",
   "metadata": {
    "execution": {
     "iopub.execute_input": "2025-10-19T11:38:12.033966Z",
     "iopub.status.busy": "2025-10-19T11:38:12.033746Z",
     "iopub.status.idle": "2025-10-19T11:38:12.049633Z",
     "shell.execute_reply": "2025-10-19T11:38:12.049013Z"
    },
    "papermill": {
     "duration": 0.032464,
     "end_time": "2025-10-19T11:38:12.050976",
     "exception": false,
     "start_time": "2025-10-19T11:38:12.018512",
     "status": "completed"
    },
    "tags": []
   },
   "outputs": [
    {
     "name": "stdout",
     "output_type": "stream",
     "text": [
      "Top positive features (indicate conflict):\n",
      "war 9.9353\n",
      "conflict 3.5742\n",
      "civil 2.2856\n",
      "civil war 2.1324\n",
      "ukraine 1.9077\n",
      "cold 1.6633\n",
      "cold war 1.6403\n",
      "israel 1.6196\n",
      "libya 1.4492\n",
      "vietnam war 1.3641\n",
      "army 1.3541\n",
      "ukraine war 1.3455\n",
      "afghanistan 1.3452\n",
      "country 1.3353\n",
      "france 1.3333\n",
      "syria 1.3023\n",
      "iraq 1.2464\n",
      "yemen 1.222\n",
      "vietnam 1.2012\n",
      "battle 1.1786\n",
      "\n",
      "Top negative features (indicate non-conflict):\n",
      "venezuela -4.2619\n",
      "venezuelan -2.5859\n",
      "reuters -2.4878\n",
      "cuba -2.2476\n",
      "israeli -2.1831\n",
      "security -2.1759\n",
      "july -2.0929\n",
      "run -1.9645\n",
      "oil -1.7974\n",
      "china -1.7874\n",
      "protesters -1.7506\n",
      "monitoring -1.6591\n",
      "military -1.6491\n",
      "africa -1.6203\n",
      "pipeline -1.6013\n",
      "cuban -1.6012\n",
      "havana -1.5823\n",
      "occupied -1.5576\n",
      "ship -1.5167\n",
      "chinese military -1.5042\n"
     ]
    }
   ],
   "source": [
    "\n",
    "feature_names = tfidf.get_feature_names_out()\n",
    "coefs = clf.coef_.ravel()\n",
    "\n",
    "top_pos_idx = np.argsort(coefs)[-20:][::-1]\n",
    "top_neg_idx = np.argsort(coefs)[:20]\n",
    "\n",
    "print(\"Top positive features (indicate conflict):\")\n",
    "for i in top_pos_idx:\n",
    "    print(feature_names[i], round(coefs[i],4))\n",
    "\n",
    "print(\"\\nTop negative features (indicate non-conflict):\")\n",
    "for i in top_neg_idx:\n",
    "    print(feature_names[i], round(coefs[i],4))"
   ]
  },
  {
   "cell_type": "markdown",
   "id": "29a29a80",
   "metadata": {
    "papermill": {
     "duration": 0.011493,
     "end_time": "2025-10-19T11:38:12.079167",
     "exception": false,
     "start_time": "2025-10-19T11:38:12.067674",
     "status": "completed"
    },
    "tags": []
   },
   "source": [
    "<div style=\"background:linear-gradient(135deg,#eaf4ff,#f0fbff); padding:18px; border-radius:12px;\n",
    "box-shadow:0 6px 18px rgba(10,40,80,0.08); font-family:'Segoe UI', Arial, sans-serif; text-align:center;\">\n",
    "  <h1 style=\"margin:6px 0; font-size:28px; color:#063970;\">\n",
    "    🌍 <span style=\"background:linear-gradient(90deg,#e74c3c,#f39c12); -webkit-background-clip:text; color:transparent;\">\n",
    "      Global Conflict Heatmap:\n",
    "    </span>\n",
    "    <span style=\"color:#0b3d91; font-weight:600;\">   predict probabilities for entire dataset and aggregate by country-year\n",
    "\n",
    "</span>\n",
    "  </h1>\n",
    "</div>"
   ]
  },
  {
   "cell_type": "code",
   "execution_count": 16,
   "id": "f75260e9",
   "metadata": {
    "execution": {
     "iopub.execute_input": "2025-10-19T11:38:12.097104Z",
     "iopub.status.busy": "2025-10-19T11:38:12.096881Z",
     "iopub.status.idle": "2025-10-19T11:38:12.216309Z",
     "shell.execute_reply": "2025-10-19T11:38:12.215525Z"
    },
    "papermill": {
     "duration": 0.129577,
     "end_time": "2025-10-19T11:38:12.217355",
     "exception": false,
     "start_time": "2025-10-19T11:38:12.087778",
     "status": "completed"
    },
    "tags": []
   },
   "outputs": [
    {
     "name": "stdout",
     "output_type": "stream",
     "text": [
      "Top country-year by predicted conflict probability:\n",
      "          name  year  pred_proba_conflict\n",
      "129    Vietnam  2011             0.985192\n",
      "58     Lebanon  2014             0.957285\n",
      "135    Vietnam  2019             0.956561\n",
      "37        Iran  2015             0.953956\n",
      "131    Vietnam  2015             0.949351\n",
      "67       Libya  2013             0.944013\n",
      "132    Vietnam  2016             0.942644\n",
      "109      Syria  2020             0.940199\n",
      "57     Lebanon  2013             0.938482\n",
      "7      Algeria  2015             0.935464\n",
      "77     Nigeria  2017             0.929813\n",
      "45        Iraq  2014             0.929608\n",
      "59     Lebanon  2016             0.928532\n",
      "90   Palestine  2018             0.928524\n",
      "83    Pakistan  2015             0.926013\n",
      "134    Vietnam  2018             0.924089\n",
      "136    Vietnam  2020             0.923579\n",
      "133    Vietnam  2017             0.923012\n",
      "10     Algeria  2018             0.921495\n",
      "27      France  2015             0.919270\n"
     ]
    }
   ],
   "source": [
    "X_all = tfidf.transform(news_df['text_clean'].fillna(''))\n",
    "proba_all = clf.predict_proba(X_all)[:,1] if hasattr(clf, \"predict_proba\") else clf.predict(X_all)\n",
    "\n",
    "news_df['pred_proba_conflict'] = proba_all\n",
    "agg = news_df.groupby(['name','year'])['pred_proba_conflict'].mean().reset_index()\n",
    "agg_sorted = agg.sort_values('pred_proba_conflict', ascending=False)\n",
    "print(\"Top country-year by predicted conflict probability:\")\n",
    "print(agg_sorted.head(20))"
   ]
  },
  {
   "cell_type": "markdown",
   "id": "88ba9593",
   "metadata": {
    "papermill": {
     "duration": 0.008379,
     "end_time": "2025-10-19T11:38:12.234560",
     "exception": false,
     "start_time": "2025-10-19T11:38:12.226181",
     "status": "completed"
    },
    "tags": []
   },
   "source": [
    "# **save model and vectorizer**\n"
   ]
  },
  {
   "cell_type": "code",
   "execution_count": 17,
   "id": "f31cfd9f",
   "metadata": {
    "execution": {
     "iopub.execute_input": "2025-10-19T11:38:12.252627Z",
     "iopub.status.busy": "2025-10-19T11:38:12.252411Z",
     "iopub.status.idle": "2025-10-19T11:38:12.427490Z",
     "shell.execute_reply": "2025-10-19T11:38:12.426852Z"
    },
    "papermill": {
     "duration": 0.185256,
     "end_time": "2025-10-19T11:38:12.428538",
     "exception": false,
     "start_time": "2025-10-19T11:38:12.243282",
     "status": "completed"
    },
    "tags": []
   },
   "outputs": [
    {
     "name": "stdout",
     "output_type": "stream",
     "text": [
      "Saved model and tfidf to disk.\n"
     ]
    }
   ],
   "source": [
    "import joblib\n",
    "joblib.dump(clf, \"logreg_conflict_model.joblib\")\n",
    "joblib.dump(tfidf, \"tfidf_vectorizer.joblib\")\n",
    "print(\"Saved model and tfidf to disk.\")"
   ]
  },
  {
   "cell_type": "code",
   "execution_count": 18,
   "id": "f6787f2a",
   "metadata": {
    "execution": {
     "iopub.execute_input": "2025-10-19T11:38:12.446674Z",
     "iopub.status.busy": "2025-10-19T11:38:12.446470Z",
     "iopub.status.idle": "2025-10-19T11:38:18.688384Z",
     "shell.execute_reply": "2025-10-19T11:38:18.687615Z"
    },
    "papermill": {
     "duration": 6.252292,
     "end_time": "2025-10-19T11:38:18.689720",
     "exception": false,
     "start_time": "2025-10-19T11:38:12.437428",
     "status": "completed"
    },
    "tags": []
   },
   "outputs": [
    {
     "name": "stdout",
     "output_type": "stream",
     "text": [
      "Collecting GoogleNews\r\n",
      "  Downloading GoogleNews-1.6.15-py3-none-any.whl.metadata (4.5 kB)\r\n",
      "Requirement already satisfied: beautifulsoup4 in /usr/local/lib/python3.11/dist-packages (from GoogleNews) (4.13.4)\r\n",
      "Collecting dateparser (from GoogleNews)\r\n",
      "  Downloading dateparser-1.2.2-py3-none-any.whl.metadata (29 kB)\r\n",
      "Requirement already satisfied: python-dateutil in /usr/local/lib/python3.11/dist-packages (from GoogleNews) (2.9.0.post0)\r\n",
      "Requirement already satisfied: soupsieve>1.2 in /usr/local/lib/python3.11/dist-packages (from beautifulsoup4->GoogleNews) (2.7)\r\n",
      "Requirement already satisfied: typing-extensions>=4.0.0 in /usr/local/lib/python3.11/dist-packages (from beautifulsoup4->GoogleNews) (4.15.0)\r\n",
      "Requirement already satisfied: pytz>=2024.2 in /usr/local/lib/python3.11/dist-packages (from dateparser->GoogleNews) (2025.2)\r\n",
      "Requirement already satisfied: regex>=2024.9.11 in /usr/local/lib/python3.11/dist-packages (from dateparser->GoogleNews) (2025.9.18)\r\n",
      "Requirement already satisfied: tzlocal>=0.2 in /usr/local/lib/python3.11/dist-packages (from dateparser->GoogleNews) (5.3.1)\r\n",
      "Requirement already satisfied: six>=1.5 in /usr/local/lib/python3.11/dist-packages (from python-dateutil->GoogleNews) (1.17.0)\r\n",
      "Downloading GoogleNews-1.6.15-py3-none-any.whl (8.8 kB)\r\n",
      "Downloading dateparser-1.2.2-py3-none-any.whl (315 kB)\r\n",
      "\u001b[2K   \u001b[90m━━━━━━━━━━━━━━━━━━━━━━━━━━━━━━━━━━━━━━━━\u001b[0m \u001b[32m315.5/315.5 kB\u001b[0m \u001b[31m7.2 MB/s\u001b[0m eta \u001b[36m0:00:00\u001b[0m\r\n",
      "\u001b[?25hInstalling collected packages: dateparser, GoogleNews\r\n",
      "Successfully installed GoogleNews-1.6.15 dateparser-1.2.2\r\n"
     ]
    }
   ],
   "source": [
    "!pip install GoogleNews"
   ]
  },
  {
   "cell_type": "markdown",
   "id": "d4bc284c",
   "metadata": {
    "papermill": {
     "duration": 0.008912,
     "end_time": "2025-10-19T11:38:18.708324",
     "exception": false,
     "start_time": "2025-10-19T11:38:18.699412",
     "status": "completed"
    },
    "tags": []
   },
   "source": [
    "<div style=\"background:linear-gradient(135deg,#fff3e0,#e1f5fe); padding:20px; border-radius:15px; \n",
    "box-shadow:0 5px 15px rgba(0,0,0,0.1); font-family:'Segoe UI',Arial,sans-serif;\">\n",
    "\n",
    "  <h1 style=\"font-size:24px; color:#ef6c00; text-align:center;\">\n",
    "    🗞 <span style=\"background:linear-gradient(90deg,#ff7043,#0288d1);\n",
    "    -webkit-background-clip:text; color:transparent;\">\n",
    "      Real-Time News Mining: Global Conflict Data Collection\n",
    "    </span>\n",
    "  </h1>\n",
    "\n",
    "  <p style=\"font-size:15px; color:#37474f; text-align:center;\">\n",
    "    Automatically fetching the latest <b style=\"color:#d84315;\">war</b>, <b style=\"color:#f57c00;\">conflict</b>, \n",
    "    and <b style=\"color:#0288d1;\">military</b> news headlines for key nations \n",
    "    like <b>Russia</b>, <b>China</b>, <b>USA</b>, and others using the <b>Google News API</b>.\n",
    "  </p>\n",
    "\n",
    "  <p style=\"font-size:13px; color:#546e7a; text-align:center;\">\n",
    "    🌐 The collected data serves as the live foundation for tension forecasting models.\n",
    "  </p>\n",
    "</div>"
   ]
  },
  {
   "cell_type": "code",
   "execution_count": 19,
   "id": "4ecfb8b8",
   "metadata": {
    "execution": {
     "iopub.execute_input": "2025-10-19T11:38:18.727559Z",
     "iopub.status.busy": "2025-10-19T11:38:18.727046Z",
     "iopub.status.idle": "2025-10-19T11:38:45.322481Z",
     "shell.execute_reply": "2025-10-19T11:38:45.321594Z"
    },
    "papermill": {
     "duration": 26.606457,
     "end_time": "2025-10-19T11:38:45.323730",
     "exception": false,
     "start_time": "2025-10-19T11:38:18.717273",
     "status": "completed"
    },
    "tags": []
   },
   "outputs": [
    {
     "name": "stdout",
     "output_type": "stream",
     "text": [
      " Fetching news for Russia ...\n",
      " Fetching news for China ...\n",
      " Fetching news for United States ...\n",
      " Fetching news for Iran ...\n",
      " Fetching news for North Korea ...\n",
      " Fetching news for Israel ...\n",
      " Fetching news for Ukraine ...\n",
      " Fetching news for NATO ...\n",
      " Fetching news for India ...\n",
      " Fetching news for Pakistan ...\n",
      " News successfully saved as global_conflict_news.csv\n",
      "   country                                              title           date  \\\n",
      "0   Russia  Ukraine war live: Putin ‘demanded Kyiv surrend...  5 minutes ago   \n",
      "1   Russia  Pishchane, Tykhe and Pryvillia: Russia claims ...      1 day ago   \n",
      "2   Russia  Winning World War III, ‘vision thing’ dooms De...      1 day ago   \n",
      "3   Russia  Fact check: Trump falsely claims no other pres...      1 day ago   \n",
      "4   Russia  Three-way negotiations with Russian and Ukrain...      1 day ago   \n",
      "5   Russia  Ukraine war: Zelenskyy proposes 'drone for Tom...      1 day ago   \n",
      "6   Russia  How World War III Could Begin? Think A Fake AI...      1 day ago   \n",
      "7   Russia  Russia Says Captured 3 Villages in Ukraine's East     2 days ago   \n",
      "8   Russia  The Brew: Trump to Meet with Putin to De-Escal...     2 days ago   \n",
      "9   Russia  Daily Briefing: Trump seeks an end to 'inglori...     2 days ago   \n",
      "10   China  China's Xi calls for 'reunification' in messag...  5 minutes ago   \n",
      "11   China  Read what this Chinese officer wrote of D-Day ...    1 hours ago   \n",
      "12   China  The First 48 Hours of a War With China ‘Could ...      1 day ago   \n",
      "13   China  'Clash that could expand.' Why global war no l...     2 days ago   \n",
      "14   China  US-China economic war intensifying, not de-esc...     2 days ago   \n",
      "\n",
      "                        media  \n",
      "0             The Independent  \n",
      "1              Times of India  \n",
      "2               New York Post  \n",
      "3                         CNN  \n",
      "4                   Read Lion  \n",
      "5                    Sky News  \n",
      "6   National Security Journal  \n",
      "7            The Moscow Times  \n",
      "8                  The Stream  \n",
      "9                   USA Today  \n",
      "10                    Reuters  \n",
      "11                      1News  \n",
      "12  National Security Journal  \n",
      "13                  USA Today  \n",
      "14   World Socialist Web Site  \n"
     ]
    }
   ],
   "source": [
    "from GoogleNews import GoogleNews\n",
    "\n",
    "countries = [\"Russia\", \"China\", \"United States\", \"Iran\", \"North Korea\", \"Israel\", \"Ukraine\", \"NATO\", \"India\", \"Pakistan\"]\n",
    "\n",
    "all_news = []\n",
    "\n",
    "googlenews = GoogleNews(lang='en', period='7d')  \n",
    "\n",
    "for country in countries:\n",
    "    print(f\" Fetching news for {country} ...\")\n",
    "    googlenews.search(f\"{country} war OR conflict OR military OR World War III\")\n",
    "    results = googlenews.result()\n",
    "    \n",
    "    for r in results:\n",
    "        r['country'] = country\n",
    "        all_news.append(r)\n",
    "    \n",
    "    googlenews.clear()\n",
    "    time.sleep(2) \n",
    "\n",
    "news_df = pd.DataFrame(all_news)\n",
    "\n",
    "news_df.to_csv(\"global_conflict_news.csv\", index=False, encoding='utf-8')\n",
    "print(\" News successfully saved as global_conflict_news.csv\")\n",
    "\n",
    "print(news_df[['country', 'title', 'date', 'media']].head(15))"
   ]
  },
  {
   "cell_type": "code",
   "execution_count": 20,
   "id": "a5b8295a",
   "metadata": {
    "execution": {
     "iopub.execute_input": "2025-10-19T11:38:45.344661Z",
     "iopub.status.busy": "2025-10-19T11:38:45.344441Z",
     "iopub.status.idle": "2025-10-19T11:38:45.353504Z",
     "shell.execute_reply": "2025-10-19T11:38:45.352673Z"
    },
    "papermill": {
     "duration": 0.020706,
     "end_time": "2025-10-19T11:38:45.354511",
     "exception": false,
     "start_time": "2025-10-19T11:38:45.333805",
     "status": "completed"
    },
    "tags": []
   },
   "outputs": [
    {
     "name": "stdout",
     "output_type": "stream",
     "text": [
      " Latest news sample:\n",
      "  country                                              title           date  \\\n",
      "0  Russia  Ukraine war live: Putin ‘demanded Kyiv surrend...  5 minutes ago   \n",
      "1  Russia  Pishchane, Tykhe and Pryvillia: Russia claims ...      1 day ago   \n",
      "2  Russia  Winning World War III, ‘vision thing’ dooms De...      1 day ago   \n",
      "3  Russia  Fact check: Trump falsely claims no other pres...      1 day ago   \n",
      "4  Russia  Three-way negotiations with Russian and Ukrain...      1 day ago   \n",
      "5  Russia  Ukraine war: Zelenskyy proposes 'drone for Tom...      1 day ago   \n",
      "6  Russia  How World War III Could Begin? Think A Fake AI...      1 day ago   \n",
      "7  Russia  Russia Says Captured 3 Villages in Ukraine's East     2 days ago   \n",
      "8  Russia  The Brew: Trump to Meet with Putin to De-Escal...     2 days ago   \n",
      "9  Russia  Daily Briefing: Trump seeks an end to 'inglori...     2 days ago   \n",
      "\n",
      "                       media  \n",
      "0            The Independent  \n",
      "1             Times of India  \n",
      "2              New York Post  \n",
      "3                        CNN  \n",
      "4                  Read Lion  \n",
      "5                   Sky News  \n",
      "6  National Security Journal  \n",
      "7           The Moscow Times  \n",
      "8                 The Stream  \n",
      "9                  USA Today  \n"
     ]
    }
   ],
   "source": [
    "\n",
    "latest_news = pd.read_csv(\"global_conflict_news.csv\")\n",
    "\n",
    "print(\" Latest news sample:\")\n",
    "print(latest_news[['country', 'title', 'date', 'media']].head(10))"
   ]
  },
  {
   "cell_type": "code",
   "execution_count": 21,
   "id": "739a9a5e",
   "metadata": {
    "execution": {
     "iopub.execute_input": "2025-10-19T11:38:45.375956Z",
     "iopub.status.busy": "2025-10-19T11:38:45.375781Z",
     "iopub.status.idle": "2025-10-19T11:38:45.382615Z",
     "shell.execute_reply": "2025-10-19T11:38:45.381999Z"
    },
    "papermill": {
     "duration": 0.018517,
     "end_time": "2025-10-19T11:38:45.383559",
     "exception": false,
     "start_time": "2025-10-19T11:38:45.365042",
     "status": "completed"
    },
    "tags": []
   },
   "outputs": [
    {
     "name": "stdout",
     "output_type": "stream",
     "text": [
      " Combined text ready for prediction!\n",
      "  country                                               text\n",
      "0  Russia  Ukraine war live: Putin ‘demanded Kyiv surrend...\n",
      "1  Russia  Pishchane, Tykhe and Pryvillia: Russia claims ...\n",
      "2  Russia  Winning World War III, ‘vision thing’ dooms De...\n",
      "3  Russia  Fact check: Trump falsely claims no other pres...\n",
      "4  Russia  Three-way negotiations with Russian and Ukrain...\n"
     ]
    }
   ],
   "source": [
    "latest_news['text'] = latest_news['title'].fillna('') + ' ' + latest_news.get('desc', '').fillna('')\n",
    "latest_news = latest_news[['country', 'text']]\n",
    "\n",
    "print(\" Combined text ready for prediction!\")\n",
    "print(latest_news.head(5))"
   ]
  },
  {
   "cell_type": "markdown",
   "id": "3105686a",
   "metadata": {
    "papermill": {
     "duration": 0.009774,
     "end_time": "2025-10-19T11:38:45.403617",
     "exception": false,
     "start_time": "2025-10-19T11:38:45.393843",
     "status": "completed"
    },
    "tags": []
   },
   "source": [
    "<div style=\"background:linear-gradient(135deg,#e3f2fd,#fce4ec); padding:20px; border-radius:15px; \n",
    "box-shadow:0 6px 15px rgba(0,0,0,0.1); text-align:center; font-family:'Segoe UI',Arial,sans-serif;\">\n",
    "\n",
    "  <h1 style=\"color:#0d47a1; font-size:28px; margin-bottom:10px;\">\n",
    "    📰 <span style=\"background:linear-gradient(90deg,#1976d2,#ec407a); \n",
    "    -webkit-background-clip:text; color:transparent;\">\n",
    "      AI-Powered Global News Intelligence Dashboard\n",
    "    </span>\n",
    "  </h1>\n",
    "\n",
    "  <p style=\"font-size:16px; color:#37474f; line-height:1.6;\">\n",
    "    Using <b style=\"color:#0288d1;\">Natural Language Processing</b> and \n",
    "    <b style=\"color:#c2185b;\">machine learning models</b> trained on real-world headlines,<br>\n",
    "    this dashboard identifies emerging geopolitical risks and ranks countries \n",
    "    by <b style=\"color:#f57c00;\">predicted conflict probability</b>.\n",
    "  </p>\n",
    "\n",
    "  <p style=\"color:#546e7a; font-size:14px; margin-top:10px;\">\n",
    "    🔍 Updated dynamically from <b>live news streams</b> — visualize, interpret, and forecast global tension.\n",
    "  </p>\n",
    "</div>"
   ]
  },
  {
   "cell_type": "code",
   "execution_count": 22,
   "id": "48d145fc",
   "metadata": {
    "execution": {
     "iopub.execute_input": "2025-10-19T11:38:45.424728Z",
     "iopub.status.busy": "2025-10-19T11:38:45.424464Z",
     "iopub.status.idle": "2025-10-19T11:38:45.704999Z",
     "shell.execute_reply": "2025-10-19T11:38:45.704370Z"
    },
    "papermill": {
     "duration": 0.29241,
     "end_time": "2025-10-19T11:38:45.706059",
     "exception": false,
     "start_time": "2025-10-19T11:38:45.413649",
     "status": "completed"
    },
    "tags": []
   },
   "outputs": [
    {
     "data": {
      "text/html": [
       "\n",
       "<div style=\"background-color:#fdfdfd; border-left:6px solid #4a90e2; padding:20px;\n",
       "border-radius:10px; box-shadow:0 4px 10px rgba(0,0,0,0.1); font-family:'Segoe UI',Arial,sans-serif;\">\n",
       "  <h2 style=\"color:#2a5298;\">🔥 Top 15 Countries by Predicted Conflict Probability</h2>\n",
       "  <p style=\"color:#555;\">Based on the latest global headlines analyzed using\n",
       "  <b style=\"color:#27ae60;\">NLP models</b>.</p>\n",
       "  <table style=\"width:100%; border-collapse:collapse; margin-top:15px; font-size:14px;\">\n",
       "    <thead>\n",
       "      <tr style=\"background-color:#4a90e2; color:white;\">\n",
       "        <th style=\"padding:10px;\">Rank</th>\n",
       "        <th style=\"padding:10px;\">Country</th>\n",
       "        <th style=\"padding:10px;\">Headline</th>\n",
       "        <th style=\"padding:10px;\">Predicted Probability</th>\n",
       "      </tr>\n",
       "    </thead>\n",
       "    <tbody>\n",
       "\n",
       "      <tr style=\"background-color:#f9f9f9;\">\n",
       "        <td style=\"padding:8px;\">1</td>\n",
       "        <td style=\"padding:8px; font-weight:bold; color:#2c3e50;\">India</td>\n",
       "        <td style=\"padding:8px; color:#34495e;\">World War II history: An Indian soldier witnesses kindness by an officer from an enemy country</td>\n",
       "        <td style=\"padding:8px; text-align:center; color:#e74c3c; font-weight:bold;\">\n",
       "          0.960\n",
       "        </td>\n",
       "      </tr>\n",
       "      <tr style=\"background-color:#f9f9f9;\">\n",
       "        <td style=\"padding:8px;\">2</td>\n",
       "        <td style=\"padding:8px; font-weight:bold; color:#2c3e50;\">Russia</td>\n",
       "        <td style=\"padding:8px; color:#34495e;\">The Brew: Trump to Meet with Putin to De-Escalate Futile Ukraine Conflict, Reduce Risk of World War III</td>\n",
       "        <td style=\"padding:8px; text-align:center; color:#e74c3c; font-weight:bold;\">\n",
       "          0.948\n",
       "        </td>\n",
       "      </tr>\n",
       "      <tr style=\"background-color:#f9f9f9;\">\n",
       "        <td style=\"padding:8px;\">3</td>\n",
       "        <td style=\"padding:8px; font-weight:bold; color:#2c3e50;\">India</td>\n",
       "        <td style=\"padding:8px; color:#34495e;\">Trump claims Russia-Ukraine conflict was heading towards World War III, reveals how Putin reacted on Tomah</td>\n",
       "        <td style=\"padding:8px; text-align:center; color:#e74c3c; font-weight:bold;\">\n",
       "          0.945\n",
       "        </td>\n",
       "      </tr>\n",
       "      <tr style=\"background-color:#f9f9f9;\">\n",
       "        <td style=\"padding:8px;\">4</td>\n",
       "        <td style=\"padding:8px; font-weight:bold; color:#2c3e50;\">India</td>\n",
       "        <td style=\"padding:8px; color:#34495e;\">1971 India-Pakistan War</td>\n",
       "        <td style=\"padding:8px; text-align:center; color:#e74c3c; font-weight:bold;\">\n",
       "          0.944\n",
       "        </td>\n",
       "      </tr>\n",
       "      <tr style=\"background-color:#f9f9f9;\">\n",
       "        <td style=\"padding:8px;\">5</td>\n",
       "        <td style=\"padding:8px; font-weight:bold; color:#2c3e50;\">Pakistan</td>\n",
       "        <td style=\"padding:8px; color:#34495e;\">1971 India-Pakistan War</td>\n",
       "        <td style=\"padding:8px; text-align:center; color:#e74c3c; font-weight:bold;\">\n",
       "          0.944\n",
       "        </td>\n",
       "      </tr>\n",
       "      <tr style=\"background-color:#f9f9f9;\">\n",
       "        <td style=\"padding:8px;\">6</td>\n",
       "        <td style=\"padding:8px; font-weight:bold; color:#2c3e50;\">Pakistan</td>\n",
       "        <td style=\"padding:8px; color:#34495e;\">'India-Pakistan had great potential': Trump says Russia-Ukraine conflict is biggest after World War II; c</td>\n",
       "        <td style=\"padding:8px; text-align:center; color:#e74c3c; font-weight:bold;\">\n",
       "          0.943\n",
       "        </td>\n",
       "      </tr>\n",
       "      <tr style=\"background-color:#f9f9f9;\">\n",
       "        <td style=\"padding:8px;\">7</td>\n",
       "        <td style=\"padding:8px; font-weight:bold; color:#2c3e50;\">India</td>\n",
       "        <td style=\"padding:8px; color:#34495e;\">'India-Pakistan had great potential': Trump says Russia-Ukraine conflict is biggest after World War II; c</td>\n",
       "        <td style=\"padding:8px; text-align:center; color:#e74c3c; font-weight:bold;\">\n",
       "          0.943\n",
       "        </td>\n",
       "      </tr>\n",
       "      <tr style=\"background-color:#f9f9f9;\">\n",
       "        <td style=\"padding:8px;\">8</td>\n",
       "        <td style=\"padding:8px; font-weight:bold; color:#2c3e50;\">Ukraine</td>\n",
       "        <td style=\"padding:8px; color:#34495e;\">Three-way negotiations with Russian and Ukrainian presidents may end war, Trump says</td>\n",
       "        <td style=\"padding:8px; text-align:center; color:#e74c3c; font-weight:bold;\">\n",
       "          0.942\n",
       "        </td>\n",
       "      </tr>\n",
       "      <tr style=\"background-color:#f9f9f9;\">\n",
       "        <td style=\"padding:8px;\">9</td>\n",
       "        <td style=\"padding:8px; font-weight:bold; color:#2c3e50;\">Russia</td>\n",
       "        <td style=\"padding:8px; color:#34495e;\">Three-way negotiations with Russian and Ukrainian presidents may end war, Trump says</td>\n",
       "        <td style=\"padding:8px; text-align:center; color:#e74c3c; font-weight:bold;\">\n",
       "          0.942\n",
       "        </td>\n",
       "      </tr>\n",
       "      <tr style=\"background-color:#f9f9f9;\">\n",
       "        <td style=\"padding:8px;\">10</td>\n",
       "        <td style=\"padding:8px; font-weight:bold; color:#2c3e50;\">Israel</td>\n",
       "        <td style=\"padding:8px; color:#34495e;\">2 Years of HAMAS vs Israel BIGGEST War: World War 3 As Map Of Israel & Palestine Change |Gaza Update</td>\n",
       "        <td style=\"padding:8px; text-align:center; color:#e74c3c; font-weight:bold;\">\n",
       "          0.939\n",
       "        </td>\n",
       "      </tr>\n",
       "      <tr style=\"background-color:#f9f9f9;\">\n",
       "        <td style=\"padding:8px;\">11</td>\n",
       "        <td style=\"padding:8px; font-weight:bold; color:#2c3e50;\">Pakistan</td>\n",
       "        <td style=\"padding:8px; color:#34495e;\">India-Pakistan conflict</td>\n",
       "        <td style=\"padding:8px; text-align:center; color:#e74c3c; font-weight:bold;\">\n",
       "          0.938\n",
       "        </td>\n",
       "      </tr>\n",
       "      <tr style=\"background-color:#f9f9f9;\">\n",
       "        <td style=\"padding:8px;\">12</td>\n",
       "        <td style=\"padding:8px; font-weight:bold; color:#2c3e50;\">India</td>\n",
       "        <td style=\"padding:8px; color:#34495e;\">India-Pakistan conflict</td>\n",
       "        <td style=\"padding:8px; text-align:center; color:#e74c3c; font-weight:bold;\">\n",
       "          0.938\n",
       "        </td>\n",
       "      </tr>\n",
       "      <tr style=\"background-color:#f9f9f9;\">\n",
       "        <td style=\"padding:8px;\">13</td>\n",
       "        <td style=\"padding:8px; font-weight:bold; color:#2c3e50;\">India</td>\n",
       "        <td style=\"padding:8px; color:#34495e;\">'Disappointed with Putin': Trump slams Russian President over Ukraine war; calls conflict 'biggest since</td>\n",
       "        <td style=\"padding:8px; text-align:center; color:#e74c3c; font-weight:bold;\">\n",
       "          0.932\n",
       "        </td>\n",
       "      </tr>\n",
       "      <tr style=\"background-color:#f9f9f9;\">\n",
       "        <td style=\"padding:8px;\">14</td>\n",
       "        <td style=\"padding:8px; font-weight:bold; color:#2c3e50;\">Pakistan</td>\n",
       "        <td style=\"padding:8px; color:#34495e;\">Pakistan Afghanistan War: 3 Afghan Cricketers Killed In Pak Air Strike; ACB Withdraws From Series</td>\n",
       "        <td style=\"padding:8px; text-align:center; color:#e74c3c; font-weight:bold;\">\n",
       "          0.930\n",
       "        </td>\n",
       "      </tr>\n",
       "      <tr style=\"background-color:#f9f9f9;\">\n",
       "        <td style=\"padding:8px;\">15</td>\n",
       "        <td style=\"padding:8px; font-weight:bold; color:#2c3e50;\">India</td>\n",
       "        <td style=\"padding:8px; color:#34495e;\">Shortage Of Fighter Pilot Trainers In Britain: Indian Instructors To Train RAF Pilots, First Such Move Since World War II</td>\n",
       "        <td style=\"padding:8px; text-align:center; color:#e74c3c; font-weight:bold;\">\n",
       "          0.921\n",
       "        </td>\n",
       "      </tr></tbody></table></div>"
      ],
      "text/plain": [
       "<IPython.core.display.HTML object>"
      ]
     },
     "metadata": {},
     "output_type": "display_data"
    },
    {
     "data": {
      "text/html": [
       "\n",
       "<div style=\"background:linear-gradient(135deg,#eef2f3,#dfe9f3); padding:20px; border-radius:12px;\n",
       "margin-top:25px; font-family:'Segoe UI',Arial,sans-serif; box-shadow:0 3px 10px rgba(0,0,0,0.1);\">\n",
       "  <h3 style=\"color:#1a5276;\">📊 Automated Conflict Risk Analysis</h3>\n",
       "  <p style=\"color:#34495e;\">The data shows that\n",
       "  <b style=\"color:#c0392b;\">India</b> currently exhibits the highest predicted conflict probability,\n",
       "  followed by <b style=\"color:#e67e22;\">Russia</b>.  \n",
       "  The mean probability across top 15 nations is <b style=\"color:#27ae60;\">0.94</b>.</p>\n",
       "  <p style=\"color:#555;\">This suggests growing geopolitical tension in key regions, particularly those\n",
       "  with ongoing disputes or military build-ups.</p>\n",
       "  <p style=\"color:#7f8c8d; font-size:13px;\">⚠ Note: These insights are based on textual signals, not verified outcomes.</p>\n",
       "</div>"
      ],
      "text/plain": [
       "<IPython.core.display.HTML object>"
      ]
     },
     "metadata": {},
     "output_type": "display_data"
    },
    {
     "data": {
      "text/html": [
       "\n",
       "<div style=\"background:linear-gradient(120deg,#dfe9f3,#ffffff); padding:20px; border-radius:12px;\n",
       "margin-top:30px; font-family:'Segoe UI',Arial,sans-serif; box-shadow:0 3px 10px rgba(0,0,0,0.1);\">\n",
       "  <h3 style=\"color:#154360;\">🌍 Regional Insights</h3>\n",
       "  <p style=\"color:#2c3e50;\">Average predicted conflict probabilities by region:</p>\n",
       "  <table style=\"width:100%; border-collapse:collapse; margin-top:10px;\">\n",
       "    <thead><tr style=\"background-color:#2980b9; color:white;\">\n",
       "      <th style=\"padding:10px;\">Region</th><th style=\"padding:10px;\">Avg. Probability</th></tr></thead><tbody>\n",
       "\n",
       "      <tr style=\"background-color:#f9f9f9;\">\n",
       "        <td style=\"padding:8px; color:#2c3e50; font-weight:bold;\">Europe / Eurasia</td>\n",
       "        <td style=\"padding:8px; text-align:center; color:#e74c3c; font-weight:bold;\">\n",
       "          0.944\n",
       "        </td></tr>\n",
       "      <tr style=\"background-color:#f9f9f9;\">\n",
       "        <td style=\"padding:8px; color:#2c3e50; font-weight:bold;\">Asia</td>\n",
       "        <td style=\"padding:8px; text-align:center; color:#e74c3c; font-weight:bold;\">\n",
       "          0.940\n",
       "        </td></tr>\n",
       "      <tr style=\"background-color:#f9f9f9;\">\n",
       "        <td style=\"padding:8px; color:#2c3e50; font-weight:bold;\">Middle East</td>\n",
       "        <td style=\"padding:8px; text-align:center; color:#e74c3c; font-weight:bold;\">\n",
       "          0.939\n",
       "        </td></tr></tbody></table></div>"
      ],
      "text/plain": [
       "<IPython.core.display.HTML object>"
      ]
     },
     "metadata": {},
     "output_type": "display_data"
    },
    {
     "name": "stderr",
     "output_type": "stream",
     "text": [
      "/usr/local/lib/python3.11/dist-packages/IPython/core/pylabtools.py:151: UserWarning: Glyph 128293 (\\N{FIRE}) missing from current font.\n",
      "  fig.canvas.print_figure(bytes_io, **kw)\n"
     ]
    },
    {
     "data": {
      "image/png": "[encoded data removed]",
      "text/plain": [
       "<Figure size 1000x600 with 1 Axes>"
      ]
     },
     "metadata": {},
     "output_type": "display_data"
    },
    {
     "data": {
      "text/html": [
       "\n",
       "<div style=\"background:linear-gradient(135deg,#d0e6f7,#f7fbfd); padding:20px; border-radius:12px;\n",
       "margin-top:30px; font-family:'Segoe UI',Arial,sans-serif; box-shadow:0 3px 10px rgba(0,0,0,0.1);\">\n",
       "  <h3 style=\"color:#1a5276;\">🌐 AI Strategic Forecast & Recommendations</h3>\n",
       "  <ul style=\"font-size:14px; color:#2c3e50; line-height:1.7; padding-left:20px;\">\n",
       "    <li>🕊 <b style=\"color:#27ae60;\">Diplomatic Focus:</b> Prioritize mediation among NATO, Russia, and China to reduce risk of escalation.</li>\n",
       "    <li>💰 <b style=\"color:#27ae60;\">Economic Strategy:</b> Monitor energy and defense market volatility in Eastern Europe and South China Sea regions.</li>\n",
       "    <li>🔍 <b style=\"color:#27ae60;\">Intelligence Priority:</b> Increase monitoring of cyber warfare narratives as a potential precursor to conflicts.</li>\n",
       "    <li>🛰 <b style=\"color:#27ae60;\">Technology Impact:</b> Follow discussions on AI-enabled defense systems and autonomous military tech.</li>\n",
       "    <li>📊 <b style=\"color:#27ae60;\">Short-Term Forecast:</b> Expect localized conflicts and sanctions in 2025–2026; global-scale war remains medium-risk.</li>\n",
       "  </ul>\n",
       "</div>\n"
      ],
      "text/plain": [
       "<IPython.core.display.HTML object>"
      ]
     },
     "metadata": {},
     "output_type": "display_data"
    },
    {
     "data": {
      "text/html": [
       "\n",
       "<div style=\"background:linear-gradient(135deg,#eef2f3,#dfe9f3); padding:20px; border-radius:12px;\n",
       "margin-top:25px; font-family:'Segoe UI',Arial,sans-serif; box-shadow:0 3px 10px rgba(0,0,0,0.1);\">\n",
       "  <h3 style=\"color:#1a5276;\">🌍 Global Conflict Prediction Analysis</h3>\n",
       "  <p style=\"color:#2c3e50;\">\n",
       "    The table shows the <b style=\"color:#e67e22;\">Top 15 countries</b> with the highest predicted probability of conflict or political tension, based on the latest global news.\n",
       "  </p>\n",
       "  <p style=\"color:#34495e;\">\n",
       "    The model uses linguistic signals extracted from real-time media coverage and <b style=\"color:#27ae60;\">UCDP-trained NLP models</b> to estimate emerging risks.\n",
       "  </p>\n",
       "  <p style=\"color:#7f8c8d;\">\n",
       "    Darker probabilities may indicate <b style=\"color:#e74c3c;\">rising instability</b> or escalations in diplomatic rhetoric.\n",
       "  </p>\n",
       "</div>\n"
      ],
      "text/plain": [
       "<IPython.core.display.HTML object>"
      ]
     },
     "metadata": {},
     "output_type": "display_data"
    },
    {
     "data": {
      "text/html": [
       "\n",
       "<div style=\"background:linear-gradient(135deg,#f7f9fc,#e3eef7); padding:20px; border-radius:12px;\n",
       "margin-top:25px; font-family:'Segoe UI',Arial,sans-serif; box-shadow:0 3px 10px rgba(0,0,0,0.1);\">\n",
       "  <h3 style=\"color:#0b3d91;\">🤖 AI Insight Summary</h3>\n",
       "  <p style=\"color:#2c3e50;\">\n",
       "    AI analysis highlights intensifying narratives involving <b style=\"color:#e74c3c;\">Russia</b>, \n",
       "    <b style=\"color:#3498db;\">China</b>, and <b style=\"color:#27ae60;\">Iran</b>, often tied to security posturing and nuclear rhetoric.\n",
       "  </p>\n",
       "  <p style=\"color:#34495e;\">\n",
       "    Continued mentions of <b style=\"color:#f39c12;\">Ukraine</b> and <b style=\"color:#8e44ad;\">NATO</b> suggest persistent tension in Eastern Europe,\n",
       "    while <b style=\"color:#16a085;\">South Asia</b> remains a latent hotspot.\n",
       "  </p>\n",
       "  <p style=\"color:#7f8c8d;\">\n",
       "    The model indicates a <b style=\"color:#e67e22;\">high global tension phase</b> but low probability of full-scale world war in the immediate term.\n",
       "  </p>\n",
       "</div>\n"
      ],
      "text/plain": [
       "<IPython.core.display.HTML object>"
      ]
     },
     "metadata": {},
     "output_type": "display_data"
    }
   ],
   "source": [
    "\n",
    "latest_news = pd.read_csv(\"global_conflict_news.csv\")\n",
    "latest_news['text'] = latest_news['title'].fillna('') + ' ' + latest_news.get('desc', '').fillna('')\n",
    "\n",
    "\n",
    "vectorizer = joblib.load(\"tfidf_vectorizer.joblib\")\n",
    "model = joblib.load(\"logreg_conflict_model.joblib\")\n",
    "\n",
    "\n",
    "X_latest = vectorizer.transform(latest_news['text'])\n",
    "latest_news['pred_proba_conflict'] = model.predict_proba(X_latest)[:, 1]\n",
    "\n",
    "# Top 15 predictions\n",
    "top_preds = latest_news[['country', 'title', 'pred_proba_conflict']] \\\n",
    "    .sort_values(by='pred_proba_conflict', ascending=False).head(15).reset_index(drop=True)\n",
    "\n",
    "\n",
    "table_html = f\"\"\"\n",
    "<div style=\"background-color:#fdfdfd; border-left:6px solid #4a90e2; padding:20px;\n",
    "border-radius:10px; box-shadow:0 4px 10px rgba(0,0,0,0.1); font-family:'Segoe UI',Arial,sans-serif;\">\n",
    "  <h2 style=\"color:#2a5298;\">🔥 Top 15 Countries by Predicted Conflict Probability</h2>\n",
    "  <p style=\"color:#555;\">Based on the latest global headlines analyzed using\n",
    "  <b style=\"color:#27ae60;\">NLP models</b>.</p>\n",
    "  <table style=\"width:100%; border-collapse:collapse; margin-top:15px; font-size:14px;\">\n",
    "    <thead>\n",
    "      <tr style=\"background-color:#4a90e2; color:white;\">\n",
    "        <th style=\"padding:10px;\">Rank</th>\n",
    "        <th style=\"padding:10px;\">Country</th>\n",
    "        <th style=\"padding:10px;\">Headline</th>\n",
    "        <th style=\"padding:10px;\">Predicted Probability</th>\n",
    "      </tr>\n",
    "    </thead>\n",
    "    <tbody>\n",
    "\"\"\"\n",
    "for i, row in top_preds.iterrows():\n",
    "    color = \"#e74c3c\" if row['pred_proba_conflict'] > 0.85 else \"#f39c12\" if row['pred_proba_conflict'] > 0.6 else \"#27ae60\"\n",
    "    table_html += f\"\"\"\n",
    "      <tr style=\"background-color:#f9f9f9;\">\n",
    "        <td style=\"padding:8px;\">{i+1}</td>\n",
    "        <td style=\"padding:8px; font-weight:bold; color:#2c3e50;\">{row['country']}</td>\n",
    "        <td style=\"padding:8px; color:#34495e;\">{row['title']}</td>\n",
    "        <td style=\"padding:8px; text-align:center; color:{color}; font-weight:bold;\">\n",
    "          {row['pred_proba_conflict']:.3f}\n",
    "        </td>\n",
    "      </tr>\"\"\"\n",
    "table_html += \"</tbody></table></div>\"\n",
    "display(HTML(table_html))\n",
    "\n",
    "\n",
    "top_country = top_preds.iloc[0]['country']\n",
    "second_country = top_preds.iloc[1]['country']\n",
    "avg_conflict = top_preds['pred_proba_conflict'].mean()\n",
    "\n",
    "analysis_html = f\"\"\"\n",
    "<div style=\"background:linear-gradient(135deg,#eef2f3,#dfe9f3); padding:20px; border-radius:12px;\n",
    "margin-top:25px; font-family:'Segoe UI',Arial,sans-serif; box-shadow:0 3px 10px rgba(0,0,0,0.1);\">\n",
    "  <h3 style=\"color:#1a5276;\">📊 Automated Conflict Risk Analysis</h3>\n",
    "  <p style=\"color:#34495e;\">The data shows that\n",
    "  <b style=\"color:#c0392b;\">{top_country}</b> currently exhibits the highest predicted conflict probability,\n",
    "  followed by <b style=\"color:#e67e22;\">{second_country}</b>.  \n",
    "  The mean probability across top 15 nations is <b style=\"color:#27ae60;\">{avg_conflict:.2f}</b>.</p>\n",
    "  <p style=\"color:#555;\">This suggests growing geopolitical tension in key regions, particularly those\n",
    "  with ongoing disputes or military build-ups.</p>\n",
    "  <p style=\"color:#7f8c8d; font-size:13px;\">⚠ Note: These insights are based on textual signals, not verified outcomes.</p>\n",
    "</div>\"\"\"\n",
    "display(HTML(analysis_html))\n",
    "\n",
    "\n",
    "region_map = {\n",
    "    \"Russia\": \"Europe / Eurasia\",\n",
    "    \"Ukraine\": \"Europe / Eurasia\",\n",
    "    \"China\": \"Asia\",\n",
    "    \"India\": \"Asia\",\n",
    "    \"Pakistan\": \"Asia\",\n",
    "    \"Iran\": \"Middle East\",\n",
    "    \"Israel\": \"Middle East\",\n",
    "    \"USA\": \"North America\",\n",
    "    \"North Korea\": \"Asia\",\n",
    "    \"NATO\": \"Europe / North America\",\n",
    "}\n",
    "top_preds['region'] = top_preds['country'].map(region_map).fillna(\"Other\")\n",
    "region_summary = top_preds.groupby('region')['pred_proba_conflict'].mean().reset_index().sort_values(by='pred_proba_conflict', ascending=False)\n",
    "\n",
    "region_html = \"\"\"\n",
    "<div style=\"background:linear-gradient(120deg,#dfe9f3,#ffffff); padding:20px; border-radius:12px;\n",
    "margin-top:30px; font-family:'Segoe UI',Arial,sans-serif; box-shadow:0 3px 10px rgba(0,0,0,0.1);\">\n",
    "  <h3 style=\"color:#154360;\">🌍 Regional Insights</h3>\n",
    "  <p style=\"color:#2c3e50;\">Average predicted conflict probabilities by region:</p>\n",
    "  <table style=\"width:100%; border-collapse:collapse; margin-top:10px;\">\n",
    "    <thead><tr style=\"background-color:#2980b9; color:white;\">\n",
    "      <th style=\"padding:10px;\">Region</th><th style=\"padding:10px;\">Avg. Probability</th></tr></thead><tbody>\n",
    "\"\"\"\n",
    "for _, row in region_summary.iterrows():\n",
    "    color = \"#e74c3c\" if row['pred_proba_conflict'] > 0.8 else \"#f1c40f\" if row['pred_proba_conflict'] > 0.6 else \"#27ae60\"\n",
    "    region_html += f\"\"\"\n",
    "      <tr style=\"background-color:#f9f9f9;\">\n",
    "        <td style=\"padding:8px; color:#2c3e50; font-weight:bold;\">{row['region']}</td>\n",
    "        <td style=\"padding:8px; text-align:center; color:{color}; font-weight:bold;\">\n",
    "          {row['pred_proba_conflict']:.3f}\n",
    "        </td></tr>\"\"\"\n",
    "region_html += \"</tbody></table></div>\"\n",
    "display(HTML(region_html))\n",
    "\n",
    "top10 = top_preds.head(10)\n",
    "plt.figure(figsize=(10,6))\n",
    "plt.barh(top10['country'], top10['pred_proba_conflict'], color=\"#7b68ee\", edgecolor='#555')\n",
    "plt.gca().invert_yaxis()\n",
    "plt.title(\"🔥 Top 10 Countries by Predicted Conflict Probability\", fontsize=14, color=\"#4B0082\", pad=15)\n",
    "plt.xlabel(\"Conflict Probability\", fontsize=12)\n",
    "plt.ylabel(\"Country\", fontsize=12)\n",
    "plt.grid(axis='x', linestyle='--', alpha=0.5)\n",
    "plt.show()\n",
    "\n",
    "\n",
    "recommendations_html = \"\"\"\n",
    "<div style=\"background:linear-gradient(135deg,#d0e6f7,#f7fbfd); padding:20px; border-radius:12px;\n",
    "margin-top:30px; font-family:'Segoe UI',Arial,sans-serif; box-shadow:0 3px 10px rgba(0,0,0,0.1);\">\n",
    "  <h3 style=\"color:#1a5276;\">🌐 AI Strategic Forecast & Recommendations</h3>\n",
    "  <ul style=\"font-size:14px; color:#2c3e50; line-height:1.7; padding-left:20px;\">\n",
    "    <li>🕊 <b style=\"color:#27ae60;\">Diplomatic Focus:</b> Prioritize mediation among NATO, Russia, and China to reduce risk of escalation.</li>\n",
    "    <li>💰 <b style=\"color:#27ae60;\">Economic Strategy:</b> Monitor energy and defense market volatility in Eastern Europe and South China Sea regions.</li>\n",
    "    <li>🔍 <b style=\"color:#27ae60;\">Intelligence Priority:</b> Increase monitoring of cyber warfare narratives as a potential precursor to conflicts.</li>\n",
    "    <li>🛰 <b style=\"color:#27ae60;\">Technology Impact:</b> Follow discussions on AI-enabled defense systems and autonomous military tech.</li>\n",
    "    <li>📊 <b style=\"color:#27ae60;\">Short-Term Forecast:</b> Expect localized conflicts and sanctions in 2025–2026; global-scale war remains medium-risk.</li>\n",
    "  </ul>\n",
    "</div>\n",
    "\"\"\"\n",
    "display(HTML(recommendations_html))\n",
    "\n",
    "explanation_html = \"\"\"\n",
    "<div style=\"background:linear-gradient(135deg,#eef2f3,#dfe9f3); padding:20px; border-radius:12px;\n",
    "margin-top:25px; font-family:'Segoe UI',Arial,sans-serif; box-shadow:0 3px 10px rgba(0,0,0,0.1);\">\n",
    "  <h3 style=\"color:#1a5276;\">🌍 Global Conflict Prediction Analysis</h3>\n",
    "  <p style=\"color:#2c3e50;\">\n",
    "    The table shows the <b style=\"color:#e67e22;\">Top 15 countries</b> with the highest predicted probability of conflict or political tension, based on the latest global news.\n",
    "  </p>\n",
    "  <p style=\"color:#34495e;\">\n",
    "    The model uses linguistic signals extracted from real-time media coverage and <b style=\"color:#27ae60;\">UCDP-trained NLP models</b> to estimate emerging risks.\n",
    "  </p>\n",
    "  <p style=\"color:#7f8c8d;\">\n",
    "    Darker probabilities may indicate <b style=\"color:#e74c3c;\">rising instability</b> or escalations in diplomatic rhetoric.\n",
    "  </p>\n",
    "</div>\n",
    "\"\"\"\n",
    "display(HTML(explanation_html))\n",
    "\n",
    "\n",
    "ai_summary_html = \"\"\"\n",
    "<div style=\"background:linear-gradient(135deg,#f7f9fc,#e3eef7); padding:20px; border-radius:12px;\n",
    "margin-top:25px; font-family:'Segoe UI',Arial,sans-serif; box-shadow:0 3px 10px rgba(0,0,0,0.1);\">\n",
    "  <h3 style=\"color:#0b3d91;\">🤖 AI Insight Summary</h3>\n",
    "  <p style=\"color:#2c3e50;\">\n",
    "    AI analysis highlights intensifying narratives involving <b style=\"color:#e74c3c;\">Russia</b>, \n",
    "    <b style=\"color:#3498db;\">China</b>, and <b style=\"color:#27ae60;\">Iran</b>, often tied to security posturing and nuclear rhetoric.\n",
    "  </p>\n",
    "  <p style=\"color:#34495e;\">\n",
    "    Continued mentions of <b style=\"color:#f39c12;\">Ukraine</b> and <b style=\"color:#8e44ad;\">NATO</b> suggest persistent tension in Eastern Europe,\n",
    "    while <b style=\"color:#16a085;\">South Asia</b> remains a latent hotspot.\n",
    "  </p>\n",
    "  <p style=\"color:#7f8c8d;\">\n",
    "    The model indicates a <b style=\"color:#e67e22;\">high global tension phase</b> but low probability of full-scale world war in the immediate term.\n",
    "  </p>\n",
    "</div>\n",
    "\"\"\"\n",
    "display(HTML(ai_summary_html))"
   ]
  },
  {
   "cell_type": "markdown",
   "id": "4132fd77",
   "metadata": {
    "papermill": {
     "duration": 0.011439,
     "end_time": "2025-10-19T11:38:45.729848",
     "exception": false,
     "start_time": "2025-10-19T11:38:45.718409",
     "status": "completed"
    },
    "tags": []
   },
   "source": [
    "<div style=\"background:linear-gradient(135deg,#eaf4ff,#f0fbff); padding:18px; border-radius:12px;\n",
    "box-shadow:0 6px 18px rgba(10,40,80,0.08); font-family:'Segoe UI', Arial, sans-serif; text-align:center;\">\n",
    "  <h1 style=\"margin:6px 0; font-size:28px; color:#063970;\">\n",
    "    🌍 <span style=\"background:linear-gradient(90deg,#e74c3c,#f39c12); -webkit-background-clip:text; color:transparent;\">\n",
    "      Global Conflict Heatmap:\n",
    "    </span>\n",
    "    <span style=\"color:#0b3d91; font-weight:600;\"> AI-Predicted War Probability by Country</span>\n",
    "  </h1>\n",
    "</div>"
   ]
  },
  {
   "cell_type": "code",
   "execution_count": 23,
   "id": "c481e128",
   "metadata": {
    "execution": {
     "iopub.execute_input": "2025-10-19T11:38:45.753913Z",
     "iopub.status.busy": "2025-10-19T11:38:45.753656Z",
     "iopub.status.idle": "2025-10-19T11:38:47.044843Z",
     "shell.execute_reply": "2025-10-19T11:38:47.044217Z"
    },
    "papermill": {
     "duration": 1.305592,
     "end_time": "2025-10-19T11:38:47.046940",
     "exception": false,
     "start_time": "2025-10-19T11:38:45.741348",
     "status": "completed"
    },
    "tags": []
   },
   "outputs": [
    {
     "name": "stderr",
     "output_type": "stream",
     "text": [
      "/tmp/ipykernel_19/841619480.py:1: FutureWarning: The geopandas.dataset module is deprecated and will be removed in GeoPandas 1.0. You can get the original 'naturalearth_lowres' data from https://www.naturalearthdata.com/downloads/110m-cultural-vectors/.\n",
      "  world = gpd.read_file(gpd.datasets.get_path('naturalearth_lowres'))\n",
      "/usr/local/lib/python3.11/dist-packages/IPython/core/pylabtools.py:151: UserWarning: Glyph 127757 (\\N{EARTH GLOBE EUROPE-AFRICA}) missing from current font.\n",
      "  fig.canvas.print_figure(bytes_io, **kw)\n"
     ]
    },
    {
     "data": {
      "image/png": "[encoded data removed]",
      "text/plain": [
       "<Figure size 1400x800 with 2 Axes>"
      ]
     },
     "metadata": {},
     "output_type": "display_data"
    },
    {
     "data": {
      "text/html": [
       "\n",
       "<div style=\"\n",
       "    background-color:#f9fafc;\n",
       "    border-left: 6px solid #4a90e2;\n",
       "    padding: 20px;\n",
       "    font-family: 'Segoe UI', Arial, sans-serif;\n",
       "    line-height: 1.7;\n",
       "    color: #333;\n",
       "    border-radius: 10px;\n",
       "    box-shadow: 0 4px 10px rgba(0,0,0,0.1);\n",
       "\">\n",
       "  <h2 style=\"color:#2a5298;\">🧭 Interpretation of the Map</h2>\n",
       "\n",
       "  <p>This map visualizes the <b style='color:#c0392b;'>predicted probability of conflict or war</b> \n",
       "  in each country, derived from <b style='color:#27ae60;'>recent global news</b> analyzed with NLP techniques.</p>\n",
       "\n",
       "  <ul>\n",
       "    <li>🌋 <b>Dark Red:</b> Countries showing <span style=\"color:#e74c3c;\">strong signals of potential conflict</span>\n",
       "        (mentions of military actions, escalation, or threats).</li>\n",
       "    <li>🧩 <b>Light Red:</b> Indicate <span style=\"color:#d35400;\">moderate instability or political tension</span>.</li>\n",
       "    <li>⚪ <b>Grey:</b> Countries with <span style=\"color:#7f8c8d;\">no sufficient news data</span>.</li>\n",
       "  </ul>\n",
       "\n",
       "  <h3 style=\"color:#1b4f72;\">📊 Top Countries with Highest Predicted Conflict Probability:</h3>\n",
       "  <p style=\"color:#34495e;\"><b>India, Pakistan, Iran, Israel, Ukraine, Russia, NATO, North Korea, United States, China</b></p>\n",
       "\n",
       "  <h3 style=\"color:#117a65;\">🧠 Model Insight:</h3>\n",
       "  <p>\n",
       "    The model was trained using <b style='color:#2980b9;'>UCDP conflict data</b> combined with \n",
       "    global <b style='color:#27ae60;'>news headlines</b>.  \n",
       "    It employs <b>TF-IDF</b> and <b>Logistic Regression</b> to detect linguistic patterns that historically preceded wars.\n",
       "  </p>\n",
       "\n",
       "  <h3 style=\"color:#b03a2e;\">⚠ Disclaimer:</h3>\n",
       "  <p>\n",
       "    This visualization is a <b style='color:#e74c3c;'>research experiment</b>, not a real-world intelligence forecast.  \n",
       "    It highlights <b>textual trends</b> found in recent news, not actual geopolitical certainty.\n",
       "  </p>\n",
       "</div>\n"
      ],
      "text/plain": [
       "<IPython.core.display.HTML object>"
      ]
     },
     "metadata": {},
     "output_type": "display_data"
    }
   ],
   "source": [
    "\n",
    "world = gpd.read_file(gpd.datasets.get_path('naturalearth_lowres'))\n",
    "\n",
    "# Prepare the conflict data\n",
    "conflict_map = latest_news.groupby(\"country\", as_index=False)['pred_proba_conflict'].mean()\n",
    "conflict_map.columns = ['name', 'conflict_prob']\n",
    "\n",
    "# Merge with the map\n",
    "world_conflict = world.merge(conflict_map, on='name', how='left')\n",
    "\n",
    "fig, ax = plt.subplots(figsize=(14, 8))\n",
    "world_conflict.plot(\n",
    "    column='conflict_prob',\n",
    "    cmap='Reds',\n",
    "    linewidth=0.8,\n",
    "    ax=ax,\n",
    "    edgecolor='0.8',\n",
    "    legend=True,\n",
    "    legend_kwds={'label': \"Predicted Conflict Probability\"}\n",
    ")\n",
    "\n",
    "# Fill missing areas\n",
    "world_conflict[world_conflict['conflict_prob'].isna()].plot(ax=ax, color='lightgrey')\n",
    "\n",
    "# Title\n",
    "plt.title(\"🌍 Predicted Global Conflict Probability (Based on Recent News)\", fontsize=16, pad=20)\n",
    "\n",
    "# Highlight top 10\n",
    "top_countries = conflict_map.sort_values(by='conflict_prob', ascending=False).head(10)\n",
    "for _, row in world_conflict.iterrows():\n",
    "    if row['name'] in top_countries['name'].values:\n",
    "        plt.text(\n",
    "            row['geometry'].centroid.x,\n",
    "            row['geometry'].centroid.y,\n",
    "            f\"{row['name']}\\n{row['conflict_prob']:.2f}\",\n",
    "            fontsize=8, color='black', ha='center'\n",
    "        )\n",
    "\n",
    "plt.axis('off')\n",
    "plt.show()\n",
    "\n",
    "# 🩵 Create colorful HTML explanation\n",
    "explanation_html = f\"\"\"\n",
    "<div style=\"\n",
    "    background-color:#f9fafc;\n",
    "    border-left: 6px solid #4a90e2;\n",
    "    padding: 20px;\n",
    "    font-family: 'Segoe UI', Arial, sans-serif;\n",
    "    line-height: 1.7;\n",
    "    color: #333;\n",
    "    border-radius: 10px;\n",
    "    box-shadow: 0 4px 10px rgba(0,0,0,0.1);\n",
    "\">\n",
    "  <h2 style=\"color:#2a5298;\">🧭 Interpretation of the Map</h2>\n",
    "\n",
    "  <p>This map visualizes the <b style='color:#c0392b;'>predicted probability of conflict or war</b> \n",
    "  in each country, derived from <b style='color:#27ae60;'>recent global news</b> analyzed with NLP techniques.</p>\n",
    "\n",
    "  <ul>\n",
    "    <li>🌋 <b>Dark Red:</b> Countries showing <span style=\"color:#e74c3c;\">strong signals of potential conflict</span>\n",
    "        (mentions of military actions, escalation, or threats).</li>\n",
    "    <li>🧩 <b>Light Red:</b> Indicate <span style=\"color:#d35400;\">moderate instability or political tension</span>.</li>\n",
    "    <li>⚪ <b>Grey:</b> Countries with <span style=\"color:#7f8c8d;\">no sufficient news data</span>.</li>\n",
    "  </ul>\n",
    "\n",
    "  <h3 style=\"color:#1b4f72;\">📊 Top Countries with Highest Predicted Conflict Probability:</h3>\n",
    "  <p style=\"color:#34495e;\"><b>{', '.join(top_countries['name'].tolist())}</b></p>\n",
    "\n",
    "  <h3 style=\"color:#117a65;\">🧠 Model Insight:</h3>\n",
    "  <p>\n",
    "    The model was trained using <b style='color:#2980b9;'>UCDP conflict data</b> combined with \n",
    "    global <b style='color:#27ae60;'>news headlines</b>.  \n",
    "    It employs <b>TF-IDF</b> and <b>Logistic Regression</b> to detect linguistic patterns that historically preceded wars.\n",
    "  </p>\n",
    "\n",
    "  <h3 style=\"color:#b03a2e;\">⚠ Disclaimer:</h3>\n",
    "  <p>\n",
    "    This visualization is a <b style='color:#e74c3c;'>research experiment</b>, not a real-world intelligence forecast.  \n",
    "    It highlights <b>textual trends</b> found in recent news, not actual geopolitical certainty.\n",
    "  </p>\n",
    "</div>\n",
    "\"\"\"\n",
    "\n",
    "# Display explanation box\n",
    "display(HTML(explanation_html))"
   ]
  },
  {
   "cell_type": "markdown",
   "id": "98141981",
   "metadata": {
    "papermill": {
     "duration": 0.01402,
     "end_time": "2025-10-19T11:38:47.075753",
     "exception": false,
     "start_time": "2025-10-19T11:38:47.061733",
     "status": "completed"
    },
    "tags": []
   },
   "source": [
    "# **Prepare data for WW3 simulation**\n"
   ]
  },
  {
   "cell_type": "code",
   "execution_count": 24,
   "id": "4b7be4cc",
   "metadata": {
    "execution": {
     "iopub.execute_input": "2025-10-19T11:38:47.104783Z",
     "iopub.status.busy": "2025-10-19T11:38:47.104564Z",
     "iopub.status.idle": "2025-10-19T11:38:47.108548Z",
     "shell.execute_reply": "2025-10-19T11:38:47.108031Z"
    },
    "papermill": {
     "duration": 0.019924,
     "end_time": "2025-10-19T11:38:47.109617",
     "exception": false,
     "start_time": "2025-10-19T11:38:47.089693",
     "status": "completed"
    },
    "tags": []
   },
   "outputs": [],
   "source": [
    "final_predictions_df = top_preds.rename(columns={\"pred_proba_conflict\": \"predicted_conflict_probability\"})"
   ]
  },
  {
   "cell_type": "markdown",
   "id": "90068e6c",
   "metadata": {
    "papermill": {
     "duration": 0.013816,
     "end_time": "2025-10-19T11:38:47.138420",
     "exception": false,
     "start_time": "2025-10-19T11:38:47.124604",
     "status": "completed"
    },
    "tags": []
   },
   "source": [
    "<div style=\"background:linear-gradient(135deg,#faf7ff,#f3eefb); padding:18px; border-radius:12px;\n",
    "box-shadow:0 6px 18px rgba(74,20,140,0.06); font-family:'Segoe UI', Arial, sans-serif; text-align:center;\">\n",
    "  <h1 style=\"margin:6px 0; font-size:28px;\">\n",
    "     <span style=\"background:linear-gradient(90deg,#8e44ad,#3b0b63); -webkit-background-clip:text; color:transparent;\">\n",
    "      Time-Series Simulation:\n",
    "    </span>\n",
    "    <span style=\"color:#4a235a; font-weight:600;\">   🌍 WW3 Risk Forecast Simulation\n",
    "</span>\n",
    "  </h1>\n",
    "</div>"
   ]
  },
  {
   "cell_type": "code",
   "execution_count": 25,
   "id": "25efc5b6",
   "metadata": {
    "execution": {
     "iopub.execute_input": "2025-10-19T11:38:47.167226Z",
     "iopub.status.busy": "2025-10-19T11:38:47.166967Z",
     "iopub.status.idle": "2025-10-19T11:38:47.588512Z",
     "shell.execute_reply": "2025-10-19T11:38:47.587785Z"
    },
    "papermill": {
     "duration": 0.437315,
     "end_time": "2025-10-19T11:38:47.589685",
     "exception": false,
     "start_time": "2025-10-19T11:38:47.152370",
     "status": "completed"
    },
    "tags": []
   },
   "outputs": [
    {
     "data": {
      "text/html": [
       "\n",
       "<div style='background:linear-gradient(135deg,#f7f9fc,#eef3f7); padding:20px; border-radius:15px;\n",
       "box-shadow:0 4px 12px rgba(0,0,0,0.1); font-family:\"Segoe UI\",Arial,sans-serif;'>\n",
       "  <h2 style='color:#0b3d91;'>⚔ World War III Risk Simulation</h2>\n",
       "  <p style='color:#2c3e50;'>Based on the top conflict probabilities among global powers.</p>\n",
       "</div>\n"
      ],
      "text/plain": [
       "<IPython.core.display.HTML object>"
      ]
     },
     "metadata": {},
     "output_type": "display_data"
    },
    {
     "data": {
      "text/html": [
       "<style type=\"text/css\">\n",
       "#T_2919d_row0_col0, #T_2919d_row0_col1, #T_2919d_row0_col3, #T_2919d_row1_col0, #T_2919d_row1_col1, #T_2919d_row1_col3, #T_2919d_row2_col0, #T_2919d_row2_col1, #T_2919d_row2_col3, #T_2919d_row3_col0, #T_2919d_row3_col1, #T_2919d_row3_col3, #T_2919d_row4_col0, #T_2919d_row4_col1, #T_2919d_row4_col3, #T_2919d_row5_col0, #T_2919d_row5_col1, #T_2919d_row5_col3, #T_2919d_row6_col0, #T_2919d_row6_col1, #T_2919d_row6_col3, #T_2919d_row7_col0, #T_2919d_row7_col1, #T_2919d_row7_col3, #T_2919d_row8_col0, #T_2919d_row8_col1, #T_2919d_row8_col3, #T_2919d_row9_col0, #T_2919d_row9_col1, #T_2919d_row9_col3, #T_2919d_row10_col0, #T_2919d_row10_col1, #T_2919d_row10_col3, #T_2919d_row11_col0, #T_2919d_row11_col1, #T_2919d_row11_col3, #T_2919d_row12_col0, #T_2919d_row12_col1, #T_2919d_row12_col3, #T_2919d_row13_col0, #T_2919d_row13_col1, #T_2919d_row13_col3, #T_2919d_row14_col0, #T_2919d_row14_col1, #T_2919d_row14_col3, #T_2919d_row15_col0, #T_2919d_row15_col1, #T_2919d_row15_col3, #T_2919d_row16_col0, #T_2919d_row16_col1, #T_2919d_row16_col3, #T_2919d_row17_col0, #T_2919d_row17_col1, #T_2919d_row17_col3, #T_2919d_row18_col0, #T_2919d_row18_col1, #T_2919d_row18_col3, #T_2919d_row19_col0, #T_2919d_row19_col1, #T_2919d_row19_col3 {\n",
       "  text-align: center;\n",
       "  font-family: Segoe UI;\n",
       "  border: 1px solid #ddd;\n",
       "}\n",
       "#T_2919d_row0_col2 {\n",
       "  background-color: #ff0000;\n",
       "  color: #f1f1f1;\n",
       "  text-align: center;\n",
       "  font-family: Segoe UI;\n",
       "  border: 1px solid #ddd;\n",
       "}\n",
       "#T_2919d_row1_col2 {\n",
       "  background-color: #ff0303;\n",
       "  color: #f1f1f1;\n",
       "  text-align: center;\n",
       "  font-family: Segoe UI;\n",
       "  border: 1px solid #ddd;\n",
       "}\n",
       "#T_2919d_row2_col2, #T_2919d_row3_col2, #T_2919d_row4_col2, #T_2919d_row5_col2, #T_2919d_row6_col2, #T_2919d_row7_col2, #T_2919d_row8_col2 {\n",
       "  background-color: #ff0404;\n",
       "  color: #f1f1f1;\n",
       "  text-align: center;\n",
       "  font-family: Segoe UI;\n",
       "  border: 1px solid #ddd;\n",
       "}\n",
       "#T_2919d_row9_col2, #T_2919d_row10_col2, #T_2919d_row11_col2 {\n",
       "  background-color: #ff0505;\n",
       "  color: #f1f1f1;\n",
       "  text-align: center;\n",
       "  font-family: Segoe UI;\n",
       "  border: 1px solid #ddd;\n",
       "}\n",
       "#T_2919d_row12_col2, #T_2919d_row13_col2 {\n",
       "  background-color: #ff0707;\n",
       "  color: #f1f1f1;\n",
       "  text-align: center;\n",
       "  font-family: Segoe UI;\n",
       "  border: 1px solid #ddd;\n",
       "}\n",
       "#T_2919d_row14_col2 {\n",
       "  background-color: #ff0909;\n",
       "  color: #f1f1f1;\n",
       "  text-align: center;\n",
       "  font-family: Segoe UI;\n",
       "  border: 1px solid #ddd;\n",
       "}\n",
       "#T_2919d_row15_col2, #T_2919d_row16_col2, #T_2919d_row17_col2, #T_2919d_row18_col2, #T_2919d_row19_col2 {\n",
       "  background-color: #f3f0f0;\n",
       "  color: #000000;\n",
       "  text-align: center;\n",
       "  font-family: Segoe UI;\n",
       "  border: 1px solid #ddd;\n",
       "}\n",
       "</style>\n",
       "<table id=\"T_2919d\">\n",
       "  <thead>\n",
       "    <tr>\n",
       "      <th class=\"blank level0\" >&nbsp;</th>\n",
       "      <th id=\"T_2919d_level0_col0\" class=\"col_heading level0 col0\" >country</th>\n",
       "      <th id=\"T_2919d_level0_col1\" class=\"col_heading level0 col1\" >title</th>\n",
       "      <th id=\"T_2919d_level0_col2\" class=\"col_heading level0 col2\" >predicted_conflict_probability</th>\n",
       "      <th id=\"T_2919d_level0_col3\" class=\"col_heading level0 col3\" >region</th>\n",
       "    </tr>\n",
       "  </thead>\n",
       "  <tbody>\n",
       "    <tr>\n",
       "      <th id=\"T_2919d_level0_row0\" class=\"row_heading level0 row0\" >0</th>\n",
       "      <td id=\"T_2919d_row0_col0\" class=\"data row0 col0\" >India</td>\n",
       "      <td id=\"T_2919d_row0_col1\" class=\"data row0 col1\" >World War II history: An Indian soldier witnesses kindness by an officer from an enemy country</td>\n",
       "      <td id=\"T_2919d_row0_col2\" class=\"data row0 col2\" >0.960</td>\n",
       "      <td id=\"T_2919d_row0_col3\" class=\"data row0 col3\" >Asia</td>\n",
       "    </tr>\n",
       "    <tr>\n",
       "      <th id=\"T_2919d_level0_row1\" class=\"row_heading level0 row1\" >1</th>\n",
       "      <td id=\"T_2919d_row1_col0\" class=\"data row1 col0\" >Russia</td>\n",
       "      <td id=\"T_2919d_row1_col1\" class=\"data row1 col1\" >The Brew: Trump to Meet with Putin to De-Escalate Futile Ukraine Conflict, Reduce Risk of World War III</td>\n",
       "      <td id=\"T_2919d_row1_col2\" class=\"data row1 col2\" >0.948</td>\n",
       "      <td id=\"T_2919d_row1_col3\" class=\"data row1 col3\" >Europe / Eurasia</td>\n",
       "    </tr>\n",
       "    <tr>\n",
       "      <th id=\"T_2919d_level0_row2\" class=\"row_heading level0 row2\" >2</th>\n",
       "      <td id=\"T_2919d_row2_col0\" class=\"data row2 col0\" >India</td>\n",
       "      <td id=\"T_2919d_row2_col1\" class=\"data row2 col1\" >Trump claims Russia-Ukraine conflict was heading towards World War III, reveals how Putin reacted on Tomah</td>\n",
       "      <td id=\"T_2919d_row2_col2\" class=\"data row2 col2\" >0.945</td>\n",
       "      <td id=\"T_2919d_row2_col3\" class=\"data row2 col3\" >Asia</td>\n",
       "    </tr>\n",
       "    <tr>\n",
       "      <th id=\"T_2919d_level0_row3\" class=\"row_heading level0 row3\" >3</th>\n",
       "      <td id=\"T_2919d_row3_col0\" class=\"data row3 col0\" >India</td>\n",
       "      <td id=\"T_2919d_row3_col1\" class=\"data row3 col1\" >1971 India-Pakistan War</td>\n",
       "      <td id=\"T_2919d_row3_col2\" class=\"data row3 col2\" >0.944</td>\n",
       "      <td id=\"T_2919d_row3_col3\" class=\"data row3 col3\" >Asia</td>\n",
       "    </tr>\n",
       "    <tr>\n",
       "      <th id=\"T_2919d_level0_row4\" class=\"row_heading level0 row4\" >4</th>\n",
       "      <td id=\"T_2919d_row4_col0\" class=\"data row4 col0\" >Pakistan</td>\n",
       "      <td id=\"T_2919d_row4_col1\" class=\"data row4 col1\" >1971 India-Pakistan War</td>\n",
       "      <td id=\"T_2919d_row4_col2\" class=\"data row4 col2\" >0.944</td>\n",
       "      <td id=\"T_2919d_row4_col3\" class=\"data row4 col3\" >Asia</td>\n",
       "    </tr>\n",
       "    <tr>\n",
       "      <th id=\"T_2919d_level0_row5\" class=\"row_heading level0 row5\" >5</th>\n",
       "      <td id=\"T_2919d_row5_col0\" class=\"data row5 col0\" >Pakistan</td>\n",
       "      <td id=\"T_2919d_row5_col1\" class=\"data row5 col1\" >'India-Pakistan had great potential': Trump says Russia-Ukraine conflict is biggest after World War II; c</td>\n",
       "      <td id=\"T_2919d_row5_col2\" class=\"data row5 col2\" >0.943</td>\n",
       "      <td id=\"T_2919d_row5_col3\" class=\"data row5 col3\" >Asia</td>\n",
       "    </tr>\n",
       "    <tr>\n",
       "      <th id=\"T_2919d_level0_row6\" class=\"row_heading level0 row6\" >6</th>\n",
       "      <td id=\"T_2919d_row6_col0\" class=\"data row6 col0\" >India</td>\n",
       "      <td id=\"T_2919d_row6_col1\" class=\"data row6 col1\" >'India-Pakistan had great potential': Trump says Russia-Ukraine conflict is biggest after World War II; c</td>\n",
       "      <td id=\"T_2919d_row6_col2\" class=\"data row6 col2\" >0.943</td>\n",
       "      <td id=\"T_2919d_row6_col3\" class=\"data row6 col3\" >Asia</td>\n",
       "    </tr>\n",
       "    <tr>\n",
       "      <th id=\"T_2919d_level0_row7\" class=\"row_heading level0 row7\" >7</th>\n",
       "      <td id=\"T_2919d_row7_col0\" class=\"data row7 col0\" >Ukraine</td>\n",
       "      <td id=\"T_2919d_row7_col1\" class=\"data row7 col1\" >Three-way negotiations with Russian and Ukrainian presidents may end war, Trump says</td>\n",
       "      <td id=\"T_2919d_row7_col2\" class=\"data row7 col2\" >0.942</td>\n",
       "      <td id=\"T_2919d_row7_col3\" class=\"data row7 col3\" >Europe / Eurasia</td>\n",
       "    </tr>\n",
       "    <tr>\n",
       "      <th id=\"T_2919d_level0_row8\" class=\"row_heading level0 row8\" >8</th>\n",
       "      <td id=\"T_2919d_row8_col0\" class=\"data row8 col0\" >Russia</td>\n",
       "      <td id=\"T_2919d_row8_col1\" class=\"data row8 col1\" >Three-way negotiations with Russian and Ukrainian presidents may end war, Trump says</td>\n",
       "      <td id=\"T_2919d_row8_col2\" class=\"data row8 col2\" >0.942</td>\n",
       "      <td id=\"T_2919d_row8_col3\" class=\"data row8 col3\" >Europe / Eurasia</td>\n",
       "    </tr>\n",
       "    <tr>\n",
       "      <th id=\"T_2919d_level0_row9\" class=\"row_heading level0 row9\" >9</th>\n",
       "      <td id=\"T_2919d_row9_col0\" class=\"data row9 col0\" >Israel</td>\n",
       "      <td id=\"T_2919d_row9_col1\" class=\"data row9 col1\" >2 Years of HAMAS vs Israel BIGGEST War: World War 3 As Map Of Israel & Palestine Change |Gaza Update</td>\n",
       "      <td id=\"T_2919d_row9_col2\" class=\"data row9 col2\" >0.939</td>\n",
       "      <td id=\"T_2919d_row9_col3\" class=\"data row9 col3\" >Middle East</td>\n",
       "    </tr>\n",
       "    <tr>\n",
       "      <th id=\"T_2919d_level0_row10\" class=\"row_heading level0 row10\" >10</th>\n",
       "      <td id=\"T_2919d_row10_col0\" class=\"data row10 col0\" >Pakistan</td>\n",
       "      <td id=\"T_2919d_row10_col1\" class=\"data row10 col1\" >India-Pakistan conflict</td>\n",
       "      <td id=\"T_2919d_row10_col2\" class=\"data row10 col2\" >0.938</td>\n",
       "      <td id=\"T_2919d_row10_col3\" class=\"data row10 col3\" >Asia</td>\n",
       "    </tr>\n",
       "    <tr>\n",
       "      <th id=\"T_2919d_level0_row11\" class=\"row_heading level0 row11\" >11</th>\n",
       "      <td id=\"T_2919d_row11_col0\" class=\"data row11 col0\" >India</td>\n",
       "      <td id=\"T_2919d_row11_col1\" class=\"data row11 col1\" >India-Pakistan conflict</td>\n",
       "      <td id=\"T_2919d_row11_col2\" class=\"data row11 col2\" >0.938</td>\n",
       "      <td id=\"T_2919d_row11_col3\" class=\"data row11 col3\" >Asia</td>\n",
       "    </tr>\n",
       "    <tr>\n",
       "      <th id=\"T_2919d_level0_row12\" class=\"row_heading level0 row12\" >12</th>\n",
       "      <td id=\"T_2919d_row12_col0\" class=\"data row12 col0\" >India</td>\n",
       "      <td id=\"T_2919d_row12_col1\" class=\"data row12 col1\" >'Disappointed with Putin': Trump slams Russian President over Ukraine war; calls conflict 'biggest since</td>\n",
       "      <td id=\"T_2919d_row12_col2\" class=\"data row12 col2\" >0.932</td>\n",
       "      <td id=\"T_2919d_row12_col3\" class=\"data row12 col3\" >Asia</td>\n",
       "    </tr>\n",
       "    <tr>\n",
       "      <th id=\"T_2919d_level0_row13\" class=\"row_heading level0 row13\" >13</th>\n",
       "      <td id=\"T_2919d_row13_col0\" class=\"data row13 col0\" >Pakistan</td>\n",
       "      <td id=\"T_2919d_row13_col1\" class=\"data row13 col1\" >Pakistan Afghanistan War: 3 Afghan Cricketers Killed In Pak Air Strike; ACB Withdraws From Series</td>\n",
       "      <td id=\"T_2919d_row13_col2\" class=\"data row13 col2\" >0.930</td>\n",
       "      <td id=\"T_2919d_row13_col3\" class=\"data row13 col3\" >Asia</td>\n",
       "    </tr>\n",
       "    <tr>\n",
       "      <th id=\"T_2919d_level0_row14\" class=\"row_heading level0 row14\" >14</th>\n",
       "      <td id=\"T_2919d_row14_col0\" class=\"data row14 col0\" >India</td>\n",
       "      <td id=\"T_2919d_row14_col1\" class=\"data row14 col1\" >Shortage Of Fighter Pilot Trainers In Britain: Indian Instructors To Train RAF Pilots, First Such Move Since World War II</td>\n",
       "      <td id=\"T_2919d_row14_col2\" class=\"data row14 col2\" >0.921</td>\n",
       "      <td id=\"T_2919d_row14_col3\" class=\"data row14 col3\" >Asia</td>\n",
       "    </tr>\n",
       "    <tr>\n",
       "      <th id=\"T_2919d_level0_row15\" class=\"row_heading level0 row15\" >15</th>\n",
       "      <td id=\"T_2919d_row15_col0\" class=\"data row15 col0\" >USA</td>\n",
       "      <td id=\"T_2919d_row15_col1\" class=\"data row15 col1\" >nan</td>\n",
       "      <td id=\"T_2919d_row15_col2\" class=\"data row15 col2\" >0.000</td>\n",
       "      <td id=\"T_2919d_row15_col3\" class=\"data row15 col3\" >nan</td>\n",
       "    </tr>\n",
       "    <tr>\n",
       "      <th id=\"T_2919d_level0_row16\" class=\"row_heading level0 row16\" >16</th>\n",
       "      <td id=\"T_2919d_row16_col0\" class=\"data row16 col0\" >China</td>\n",
       "      <td id=\"T_2919d_row16_col1\" class=\"data row16 col1\" >nan</td>\n",
       "      <td id=\"T_2919d_row16_col2\" class=\"data row16 col2\" >0.000</td>\n",
       "      <td id=\"T_2919d_row16_col3\" class=\"data row16 col3\" >nan</td>\n",
       "    </tr>\n",
       "    <tr>\n",
       "      <th id=\"T_2919d_level0_row17\" class=\"row_heading level0 row17\" >17</th>\n",
       "      <td id=\"T_2919d_row17_col0\" class=\"data row17 col0\" >Iran</td>\n",
       "      <td id=\"T_2919d_row17_col1\" class=\"data row17 col1\" >nan</td>\n",
       "      <td id=\"T_2919d_row17_col2\" class=\"data row17 col2\" >0.000</td>\n",
       "      <td id=\"T_2919d_row17_col3\" class=\"data row17 col3\" >nan</td>\n",
       "    </tr>\n",
       "    <tr>\n",
       "      <th id=\"T_2919d_level0_row18\" class=\"row_heading level0 row18\" >18</th>\n",
       "      <td id=\"T_2919d_row18_col0\" class=\"data row18 col0\" >North Korea</td>\n",
       "      <td id=\"T_2919d_row18_col1\" class=\"data row18 col1\" >nan</td>\n",
       "      <td id=\"T_2919d_row18_col2\" class=\"data row18 col2\" >0.000</td>\n",
       "      <td id=\"T_2919d_row18_col3\" class=\"data row18 col3\" >nan</td>\n",
       "    </tr>\n",
       "    <tr>\n",
       "      <th id=\"T_2919d_level0_row19\" class=\"row_heading level0 row19\" >19</th>\n",
       "      <td id=\"T_2919d_row19_col0\" class=\"data row19 col0\" >NATO</td>\n",
       "      <td id=\"T_2919d_row19_col1\" class=\"data row19 col1\" >nan</td>\n",
       "      <td id=\"T_2919d_row19_col2\" class=\"data row19 col2\" >0.000</td>\n",
       "      <td id=\"T_2919d_row19_col3\" class=\"data row19 col3\" >nan</td>\n",
       "    </tr>\n",
       "  </tbody>\n",
       "</table>\n"
      ],
      "text/plain": [
       "<pandas.io.formats.style.Styler at 0x7b3476558150>"
      ]
     },
     "metadata": {},
     "output_type": "display_data"
    },
    {
     "name": "stderr",
     "output_type": "stream",
     "text": [
      "/usr/local/lib/python3.11/dist-packages/IPython/core/pylabtools.py:151: UserWarning: Glyph 128293 (\\N{FIRE}) missing from current font.\n",
      "  fig.canvas.print_figure(bytes_io, **kw)\n"
     ]
    },
    {
     "data": {
      "image/png": "[encoded data removed]",
      "text/plain": [
       "<Figure size 1000x600 with 1 Axes>"
      ]
     },
     "metadata": {},
     "output_type": "display_data"
    },
    {
     "data": {
      "text/html": [
       "\n",
       "<div style='background:linear-gradient(135deg,#eef2f3,#dfe9f3); padding:20px; border-radius:12px;\n",
       "margin-top:20px; font-family:\"Segoe UI\",Arial,sans-serif; box-shadow:0 3px 10px rgba(0,0,0,0.1);'>\n",
       "  <h3 style='color:#f39c12;'>🟠 Elevated — Regional Conflicts Likely</h3>\n",
       "  <p style='color:#34495e;'>Average predicted global tension index: \n",
       "  <b style='color:#f39c12;'>0.706</b></p>\n",
       "  <p style='color:#2c3e50;'>Key contributors: \n",
       "  <b style='color:#e74c3c;'>Russia</b>, <b style='color:#3498db;'>China</b>, and <b style='color:#27ae60;'>USA</b>.</p>\n",
       "  <p style='color:#7f8c8d; font-size:13px;'>⚠ Note: These results are based on probabilistic text-based predictions, not verified intelligence data.</p>\n",
       "</div>\n"
      ],
      "text/plain": [
       "<IPython.core.display.HTML object>"
      ]
     },
     "metadata": {},
     "output_type": "display_data"
    }
   ],
   "source": [
    "\n",
    "\n",
    "final_predictions_df = top_preds.rename(columns={\"pred_proba_conflict\": \"predicted_conflict_probability\"})\n",
    "\n",
    "final_predictions_df = final_predictions_df.reset_index(drop=True)\n",
    "final_predictions_df.columns = final_predictions_df.columns.map(str)\n",
    "\n",
    "ww3_countries = [\n",
    "    \"USA\", \"Russia\", \"China\", \"Iran\", \"North Korea\", \n",
    "    \"Israel\", \"India\", \"Pakistan\", \"NATO\", \"Ukraine\"\n",
    "]\n",
    "\n",
    "ww3_df = final_predictions_df[final_predictions_df[\"country\"].isin(ww3_countries)].copy()\n",
    "\n",
    "for c in ww3_countries:\n",
    "    if c not in ww3_df[\"country\"].values:\n",
    "        ww3_df = pd.concat([ww3_df, pd.DataFrame({\"country\": [c], \"predicted_conflict_probability\": [0.0]})])\n",
    "\n",
    "ww3_df = ww3_df.sort_values(by=\"predicted_conflict_probability\", ascending=False).reset_index(drop=True)\n",
    "\n",
    "global_tension_index = ww3_df[\"predicted_conflict_probability\"].mean()\n",
    "\n",
    "if global_tension_index > 0.75:\n",
    "    ww3_risk = \"🔴 Critical — High Global War Risk\"\n",
    "    risk_color = \"#e74c3c\"\n",
    "elif global_tension_index > 0.55:\n",
    "    ww3_risk = \"🟠 Elevated — Regional Conflicts Likely\"\n",
    "    risk_color = \"#f39c12\"\n",
    "elif global_tension_index > 0.35:\n",
    "    ww3_risk = \"🟡 Moderate — Rising Tensions\"\n",
    "    risk_color = \"#f1c40f\"\n",
    "else:\n",
    "    ww3_risk = \"🟢 Stable — Low Immediate Threat\"\n",
    "    risk_color = \"#27ae60\"\n",
    "\n",
    "\n",
    "styled = ww3_df.style.background_gradient(\n",
    "    cmap=sns.light_palette(\"red\", as_cmap=True),\n",
    "    subset=[\"predicted_conflict_probability\"]\n",
    ").format({\"predicted_conflict_probability\": \"{:.3f}\"}).set_properties(\n",
    "    **{\"text-align\": \"center\", \"font-family\": \"Segoe UI\", \"border\": \"1px solid #ddd\"}\n",
    ")\n",
    "\n",
    "display(HTML(f\"\"\"\n",
    "<div style='background:linear-gradient(135deg,#f7f9fc,#eef3f7); padding:20px; border-radius:15px;\n",
    "box-shadow:0 4px 12px rgba(0,0,0,0.1); font-family:\"Segoe UI\",Arial,sans-serif;'>\n",
    "  <h2 style='color:#0b3d91;'>⚔ World War III Risk Simulation</h2>\n",
    "  <p style='color:#2c3e50;'>Based on the top conflict probabilities among global powers.</p>\n",
    "</div>\n",
    "\"\"\"))\n",
    "\n",
    "display(styled)\n",
    "\n",
    "\n",
    "plt.figure(figsize=(10,6))\n",
    "sns.barplot(x=\"predicted_conflict_probability\", y=\"country\", data=ww3_df, palette=\"Reds_r\", edgecolor=\"black\")\n",
    "plt.title(\"🔥 WW3 Risk Forecast by Country\", fontsize=15, color=\"#4B0082\", pad=15)\n",
    "plt.xlabel(\"Predicted Conflict Probability\", fontsize=12)\n",
    "plt.ylabel(\"Country\", fontsize=12)\n",
    "plt.grid(axis='x', linestyle='--', alpha=0.5)\n",
    "plt.show()\n",
    "\n",
    "\n",
    "display(HTML(f\"\"\"\n",
    "<div style='background:linear-gradient(135deg,#eef2f3,#dfe9f3); padding:20px; border-radius:12px;\n",
    "margin-top:20px; font-family:\"Segoe UI\",Arial,sans-serif; box-shadow:0 3px 10px rgba(0,0,0,0.1);'>\n",
    "  <h3 style='color:{risk_color};'>{ww3_risk}</h3>\n",
    "  <p style='color:#34495e;'>Average predicted global tension index: \n",
    "  <b style='color:{risk_color};'>{global_tension_index:.3f}</b></p>\n",
    "  <p style='color:#2c3e50;'>Key contributors: \n",
    "  <b style='color:#e74c3c;'>Russia</b>, <b style='color:#3498db;'>China</b>, and <b style='color:#27ae60;'>USA</b>.</p>\n",
    "  <p style='color:#7f8c8d; font-size:13px;'>⚠ Note: These results are based on probabilistic text-based predictions, not verified intelligence data.</p>\n",
    "</div>\n",
    "\"\"\"))"
   ]
  },
  {
   "cell_type": "markdown",
   "id": "49f4f4ef",
   "metadata": {
    "papermill": {
     "duration": 0.015401,
     "end_time": "2025-10-19T11:38:47.621861",
     "exception": false,
     "start_time": "2025-10-19T11:38:47.606460",
     "status": "completed"
    },
    "tags": []
   },
   "source": [
    "<div style=\"background:linear-gradient(135deg,#eaf4ff,#f0fbff); padding:18px; border-radius:12px;\n",
    "box-shadow:0 6px 18px rgba(10,40,80,0.08); font-family:'Segoe UI', Arial, sans-serif; text-align:center;\">\n",
    "  <h1 style=\"margin:6px 0; font-size:28px; color:#063970;\">\n",
    "    📈 <span style=\"background:linear-gradient(90deg,#43c6ac,#0052d4); -webkit-background-clip:text; color:transparent;\">\n",
    "      Time-Series Simulation:\n",
    "    </span>\n",
    "    <span style=\"color:#0b3d91; font-weight:600;\"> Global Tension Forecast</span>\n",
    "  </h1>\n",
    "</div>"
   ]
  },
  {
   "cell_type": "code",
   "execution_count": 26,
   "id": "6fbda776",
   "metadata": {
    "execution": {
     "iopub.execute_input": "2025-10-19T11:38:47.654365Z",
     "iopub.status.busy": "2025-10-19T11:38:47.653962Z",
     "iopub.status.idle": "2025-10-19T11:38:47.842442Z",
     "shell.execute_reply": "2025-10-19T11:38:47.841761Z"
    },
    "papermill": {
     "duration": 0.206117,
     "end_time": "2025-10-19T11:38:47.843579",
     "exception": false,
     "start_time": "2025-10-19T11:38:47.637462",
     "status": "completed"
    },
    "tags": []
   },
   "outputs": [
    {
     "data": {
      "image/png": "[encoded data removed]",
      "text/plain": [
       "<Figure size 1000x600 with 1 Axes>"
      ]
     },
     "metadata": {},
     "output_type": "display_data"
    },
    {
     "data": {
      "text/html": [
       "\n",
       "<div style='background:linear-gradient(135deg,#f5f7fa,#e3eef7); padding:20px; border-radius:12px;\n",
       "margin-top:25px; font-family:\"Segoe UI\",Arial,sans-serif; box-shadow:0 3px 10px rgba(0,0,0,0.1);'>\n",
       "  <h3 style='color:#0b3d91;'>🧠 AI Forecast Commentary</h3>\n",
       "  <p style='color:#2c3e50;'>The simulated global tension trend for the next 8 weeks shows a \n",
       "  <b style='color:#e74c3c;'>rising</b> trajectory 📈.</p>\n",
       "  <p style='color:#34495e;'>If the index remains above <b>0.6</b>, regional instability risks may \n",
       "  increase, particularly in areas with sustained media focus.</p>\n",
       "  <p style='color:#7f8c8d; font-size:13px;'>🔎 This forecast is generated using stochastic variation around the current model outputs — \n",
       "  it reflects sentiment drift, not verified military intelligence.</p>\n",
       "</div>\n"
      ],
      "text/plain": [
       "<IPython.core.display.HTML object>"
      ]
     },
     "metadata": {},
     "output_type": "display_data"
    }
   ],
   "source": [
    "\n",
    "weeks = np.arange(0, 8)\n",
    "dates = [datetime.today() + timedelta(weeks=int(i)) for i in weeks]\n",
    "\n",
    "np.random.seed(42)\n",
    "trend = global_tension_index + np.random.normal(0, 0.03, len(weeks)).cumsum()\n",
    "trend = np.clip(trend, 0, 1)  \n",
    "\n",
    "forecast_df = pd.DataFrame({\n",
    "    \"date\": dates,\n",
    "    \"predicted_tension\": trend\n",
    "})\n",
    "\n",
    "# Plot\n",
    "plt.figure(figsize=(10,6))\n",
    "plt.plot(forecast_df[\"date\"], forecast_df[\"predicted_tension\"], marker=\"o\", linewidth=2, color=\"#8e44ad\")\n",
    "plt.fill_between(forecast_df[\"date\"], forecast_df[\"predicted_tension\"], color=\"#8e44ad\", alpha=0.15)\n",
    "\n",
    "plt.title(\" Predicted Global Tension Trend (Next 8 Weeks)\", fontsize=15, color=\"#4B0082\", pad=15)\n",
    "plt.xlabel(\"Date\", fontsize=12)\n",
    "plt.ylabel(\"Global Tension Index\", fontsize=12)\n",
    "plt.gca().xaxis.set_major_formatter(mdates.DateFormatter(\"%b %d\"))\n",
    "plt.grid(True, linestyle=\"--\", alpha=0.5)\n",
    "plt.ylim(0, 1)\n",
    "plt.show()\n",
    "\n",
    "\n",
    "direction = \"rising\" if trend[-1] > trend[0] else \"declining\"\n",
    "color = \"#e74c3c\" if direction == \"rising\" else \"#27ae60\"\n",
    "emoji = \"📈\" if direction == \"rising\" else \"📉\"\n",
    "\n",
    "display(HTML(f\"\"\"\n",
    "<div style='background:linear-gradient(135deg,#f5f7fa,#e3eef7); padding:20px; border-radius:12px;\n",
    "margin-top:25px; font-family:\"Segoe UI\",Arial,sans-serif; box-shadow:0 3px 10px rgba(0,0,0,0.1);'>\n",
    "  <h3 style='color:#0b3d91;'>🧠 AI Forecast Commentary</h3>\n",
    "  <p style='color:#2c3e50;'>The simulated global tension trend for the next 8 weeks shows a \n",
    "  <b style='color:{color};'>{direction}</b> trajectory {emoji}.</p>\n",
    "  <p style='color:#34495e;'>If the index remains above <b>0.6</b>, regional instability risks may \n",
    "  increase, particularly in areas with sustained media focus.</p>\n",
    "  <p style='color:#7f8c8d; font-size:13px;'>🔎 This forecast is generated using stochastic variation around the current model outputs — \n",
    "  it reflects sentiment drift, not verified military intelligence.</p>\n",
    "</div>\n",
    "\"\"\"))"
   ]
  }
 ],
 "metadata": {
  "kaggle": {
   "accelerator": "nvidiaTeslaT4",
   "dataSources": [
    {
     "datasetId": 2164905,
     "sourceId": 3611798,
     "sourceType": "datasetVersion"
    },
    {
     "datasetId": 8521429,
     "sourceId": 13425781,
     "sourceType": "datasetVersion"
    }
   ],
   "dockerImageVersionId": 31154,
   "isGpuEnabled": true,
   "isInternetEnabled": true,
   "language": "python",
   "sourceType": "notebook"
  },
  "kernelspec": {
   "display_name": "Python 3",
   "language": "python",
   "name": "python3"
  },
  "language_info": {
   "codemirror_mode": {
    "name": "ipython",
    "version": 3
   },
   "file_extension": ".py",
   "mimetype": "text/x-python",
   "name": "python",
   "nbconvert_exporter": "python",
   "pygments_lexer": "ipython3",
   "version": "3.11.13"
  },
  "papermill": {
   "default_parameters": {},
   "duration": 48.736807,
   "end_time": "2025-10-19T11:38:48.578954",
   "environment_variables": {},
   "exception": null,
   "input_path": "__notebook__.ipynb",
   "output_path": "__notebook__.ipynb",
   "parameters": {},
   "start_time": "2025-10-19T11:37:59.842147",
   "version": "2.6.0"
  }
 },
 "nbformat": 4,
 "nbformat_minor": 5
}
